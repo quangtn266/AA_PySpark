{
 "cells": [
  {
   "cell_type": "code",
   "execution_count": 1,
   "id": "2824006f-e35e-422a-89a6-c67ab6d61171",
   "metadata": {},
   "outputs": [],
   "source": [
    "import pyspark\n",
    "from pyspark.sql import SparkSession"
   ]
  },
  {
   "cell_type": "code",
   "execution_count": 2,
   "id": "6c67b7ea-cde8-490c-8b16-079757b5877a",
   "metadata": {},
   "outputs": [
    {
     "name": "stderr",
     "output_type": "stream",
     "text": [
      "24/01/03 14:14:51 WARN Utils: Your hostname, quangtn933.local resolves to a loopback address: 127.0.0.1; using 192.168.1.90 instead (on interface en0)\n",
      "24/01/03 14:14:51 WARN Utils: Set SPARK_LOCAL_IP if you need to bind to another address\n",
      "Setting default log level to \"WARN\".\n",
      "To adjust logging level use sc.setLogLevel(newLevel). For SparkR, use setLogLevel(newLevel).\n",
      "24/01/03 14:14:51 WARN NativeCodeLoader: Unable to load native-hadoop library for your platform... using builtin-java classes where applicable\n"
     ]
    }
   ],
   "source": [
    "spark = SparkSession.builder.config(\"spark.driver.memory\", \"10g\").appName(\"chapter8\").getOrCreate()"
   ]
  },
  {
   "cell_type": "markdown",
   "id": "94a69f1d-2297-4988-a5d0-0abf59e924a8",
   "metadata": {},
   "source": [
    "## Preparting data"
   ]
  },
  {
   "cell_type": "code",
   "execution_count": 3,
   "id": "7c75127f-2b6f-46fa-a67c-7448d568322c",
   "metadata": {},
   "outputs": [
    {
     "name": "stderr",
     "output_type": "stream",
     "text": [
      "24/01/03 14:15:05 WARN GarbageCollectionMetrics: To enable non-built-in garbage collector(s) List(G1 Concurrent GC), users should configure it(them) to spark.eventLog.gcMetrics.youngGenerationGarbageCollectors or spark.eventLog.gcMetrics.oldGenerationGarbageCollectors\n",
      "                                                                                \r"
     ]
    }
   ],
   "source": [
    "stocks = spark.read.csv(\"/Users/quangtn/Desktop/01_work/01_job/02_ml/PySpark/EstimateFinanceRisk/stocks/\",header='true', inferSchema='true')"
   ]
  },
  {
   "cell_type": "code",
   "execution_count": 4,
   "id": "c93616e5-c389-439f-9a66-392df59f349c",
   "metadata": {},
   "outputs": [
    {
     "name": "stdout",
     "output_type": "stream",
     "text": [
      "+---------+-------+-------+-------+-------+------+\n",
      "|     Date|   Open|   High|    Low|  Close|Volume|\n",
      "+---------+-------+-------+-------+-------+------+\n",
      "|31-Dec-13|1884.00|1900.00|1880.00| 1900.0|   546|\n",
      "|30-Dec-13|1889.00|1900.00|1880.00| 1900.0|  1656|\n",
      "|27-Dec-13|1880.00|1909.00|1880.00|1891.12|  1939|\n",
      "+---------+-------+-------+-------+-------+------+\n",
      "only showing top 3 rows\n",
      "\n"
     ]
    }
   ],
   "source": [
    "stocks.show(3)"
   ]
  },
  {
   "cell_type": "code",
   "execution_count": 5,
   "id": "4ba39ac2-e252-4cb0-a2d8-bd9ac01031a0",
   "metadata": {},
   "outputs": [],
   "source": [
    "from pyspark.sql import functions as fun"
   ]
  },
  {
   "cell_type": "code",
   "execution_count": 6,
   "id": "2f26c997-4085-47eb-a782-baf98c771c0c",
   "metadata": {},
   "outputs": [],
   "source": [
    "stocks = stocks.withColumn(\"Symbol\", fun.input_file_name()). \\\n",
    "            withColumn(\"Symbol\", fun.element_at(fun.split(\"Symbol\", \"/\"),-1)). \\\n",
    "            withColumn(\"Symbol\", fun.element_at(fun.split(\"Symbol\", \"\\.\"),1))"
   ]
  },
  {
   "cell_type": "code",
   "execution_count": 7,
   "id": "79d0dcf8-60e3-4c04-a9e6-4ff447191e59",
   "metadata": {},
   "outputs": [
    {
     "name": "stdout",
     "output_type": "stream",
     "text": [
      "+---------+-------+-------+-------+------+------+------+\n",
      "|     Date|   Open|   High|    Low| Close|Volume|Symbol|\n",
      "+---------+-------+-------+-------+------+------+------+\n",
      "|31-Dec-13|1884.00|1900.00|1880.00|1900.0|   546|  CLDN|\n",
      "|30-Dec-13|1889.00|1900.00|1880.00|1900.0|  1656|  CLDN|\n",
      "+---------+-------+-------+-------+------+------+------+\n",
      "only showing top 2 rows\n",
      "\n"
     ]
    }
   ],
   "source": [
    "stocks.show(2)"
   ]
  },
  {
   "cell_type": "code",
   "execution_count": 8,
   "id": "46ec15ab-8815-4b51-854d-5c766965044b",
   "metadata": {},
   "outputs": [],
   "source": [
    "factors = spark.read.csv(\"/Users/quangtn/Desktop/01_work/01_job/02_ml/PySpark/EstimateFinanceRisk/factors\", header='true', inferSchema='true')"
   ]
  },
  {
   "cell_type": "code",
   "execution_count": 9,
   "id": "b96ce6ee-ce3e-4247-8be4-f4fefebb7643",
   "metadata": {},
   "outputs": [],
   "source": [
    "factors = factors.withColumn(\"Symbol\", fun.input_file_name()).\\\n",
    "                withColumn(\"Symbol\", fun.element_at(fun.split(\"Symbol\", \"/\"), -1)).\\\n",
    "                withColumn(\"Symbol\", fun.element_at(fun.split(\"Symbol\", \"\\.\"), 1))"
   ]
  },
  {
   "cell_type": "code",
   "execution_count": 10,
   "id": "9630d039-e5a1-4c20-b394-2329236b4019",
   "metadata": {},
   "outputs": [],
   "source": [
    "from pyspark.sql import Window"
   ]
  },
  {
   "cell_type": "code",
   "execution_count": 11,
   "id": "5fc643d9-bb4b-47f2-ba4f-690fbf54cefd",
   "metadata": {},
   "outputs": [],
   "source": [
    "stocks = stocks.withColumn('count', fun.count('Symbol').over(Window.partitionBy('Symbol'))).\\\n",
    "                filter(fun.col('count') > 260*5+10)"
   ]
  },
  {
   "cell_type": "code",
   "execution_count": 21,
   "id": "06933cb3-4f70-44f8-9901-f23403ccfcae",
   "metadata": {},
   "outputs": [
    {
     "data": {
      "text/plain": [
       "DataFrame[key: string, value: string]"
      ]
     },
     "execution_count": 21,
     "metadata": {},
     "output_type": "execute_result"
    }
   ],
   "source": [
    "spark.sql(\"set spark.sql.legacy.timeParserPolicy=LEGACY\")"
   ]
  },
  {
   "cell_type": "code",
   "execution_count": 22,
   "id": "014b3552-aa7e-44ce-97f5-f5d7ea17a101",
   "metadata": {},
   "outputs": [
    {
     "name": "stdout",
     "output_type": "stream",
     "text": [
      "root\n",
      " |-- Date: date (nullable = true)\n",
      " |-- Open: string (nullable = true)\n",
      " |-- High: string (nullable = true)\n",
      " |-- Low: string (nullable = true)\n",
      " |-- Close: double (nullable = true)\n",
      " |-- Volume: string (nullable = true)\n",
      " |-- Symbol: string (nullable = true)\n",
      " |-- count: long (nullable = false)\n",
      "\n"
     ]
    }
   ],
   "source": [
    "stocks.printSchema()"
   ]
  },
  {
   "cell_type": "code",
   "execution_count": 23,
   "id": "297cb3e5-0c04-445a-88ae-0d533153ce12",
   "metadata": {},
   "outputs": [
    {
     "name": "stderr",
     "output_type": "stream",
     "text": [
      "[Stage 14:===============================================>       (77 + 10) / 90]\r"
     ]
    },
    {
     "name": "stdout",
     "output_type": "stream",
     "text": [
      "+----------+-----+-----+-----+-----+---------+------+-----+\n",
      "|      Date| Open| High|  Low|Close|   Volume|Symbol|count|\n",
      "+----------+-----+-----+-----+-----+---------+------+-----+\n",
      "|2013-10-23|74.14|75.10|74.14|74.99| 78431122|  AAPL| 3520|\n",
      "|2013-10-22|75.20|75.49|72.58|74.27|133515753|  AAPL| 3520|\n",
      "+----------+-----+-----+-----+-----+---------+------+-----+\n",
      "only showing top 2 rows\n",
      "\n"
     ]
    },
    {
     "name": "stderr",
     "output_type": "stream",
     "text": [
      "                                                                                \r"
     ]
    }
   ],
   "source": [
    "stocks.show(2)"
   ]
  },
  {
   "cell_type": "code",
   "execution_count": 24,
   "id": "a3bc89bf-2c66-4ec4-86ef-31ecaec5a846",
   "metadata": {},
   "outputs": [],
   "source": [
    "from datetime import datetime"
   ]
  },
  {
   "cell_type": "code",
   "execution_count": 25,
   "id": "913e4ffd-53cc-4c85-9967-41313f7c67ae",
   "metadata": {},
   "outputs": [],
   "source": [
    "stocks = stocks.withColumn('Date', fun.to_date(fun.to_timestamp(fun.col('Date'), 'dd-MMM-yy')))"
   ]
  },
  {
   "cell_type": "code",
   "execution_count": 26,
   "id": "9f367971-d4b0-42ff-819c-a588bb746894",
   "metadata": {},
   "outputs": [],
   "source": [
    "stocks = stocks.filter(fun.col('Date') >= datetime(2009, 10, 23)).\\\n",
    "                filter(fun.col('Date') <= datetime(2013, 10, 23))"
   ]
  },
  {
   "cell_type": "code",
   "execution_count": 27,
   "id": "fd0dac75-9bf3-4578-975e-6101d86a2c9c",
   "metadata": {},
   "outputs": [],
   "source": [
    "factors = factors.withColumn('Date', fun.to_date(fun.to_timestamp(fun.col('Date'),\\\n",
    "                            'dd-MMM-yy')))"
   ]
  },
  {
   "cell_type": "code",
   "execution_count": 28,
   "id": "27bada54-bb7c-41d6-afd3-032bdd83c6de",
   "metadata": {},
   "outputs": [
    {
     "name": "stdout",
     "output_type": "stream",
     "text": [
      "+----------+------+------+------+------+-------+--------------+\n",
      "|      Date|  Open|  High|   Low| Close| Volume|        Symbol|\n",
      "+----------+------+------+------+------+-------+--------------+\n",
      "|2013-12-31|102.29|102.55|101.17|101.86|7219195|NASDAQ%253ATLT|\n",
      "|2013-12-30|102.15|102.58|102.08|102.51|4491711|NASDAQ%253ATLT|\n",
      "+----------+------+------+------+------+-------+--------------+\n",
      "only showing top 2 rows\n",
      "\n"
     ]
    }
   ],
   "source": [
    "factors.show(2)"
   ]
  },
  {
   "cell_type": "code",
   "execution_count": 29,
   "id": "f75f0759-efbd-47a3-a7b0-79af9320c351",
   "metadata": {},
   "outputs": [],
   "source": [
    "factors = factors.filter(fun.col('Date') >= datetime(2009, 10, 23)).\\\n",
    "                filter(fun.col('Date') <= datetime(2014, 10, 23))"
   ]
  },
  {
   "cell_type": "code",
   "execution_count": 30,
   "id": "81268dfa-482e-44b4-9172-6076b43ab5f4",
   "metadata": {},
   "outputs": [
    {
     "name": "stdout",
     "output_type": "stream",
     "text": [
      "+----------+------+------+------+------+-------+--------------+\n",
      "|      Date|  Open|  High|   Low| Close| Volume|        Symbol|\n",
      "+----------+------+------+------+------+-------+--------------+\n",
      "|2013-12-31|102.29|102.55|101.17|101.86|7219195|NASDAQ%253ATLT|\n",
      "|2013-12-30|102.15|102.58|102.08|102.51|4491711|NASDAQ%253ATLT|\n",
      "|2013-12-27|102.07|102.31|101.69|101.81|4755262|NASDAQ%253ATLT|\n",
      "+----------+------+------+------+------+-------+--------------+\n",
      "only showing top 3 rows\n",
      "\n"
     ]
    }
   ],
   "source": [
    "factors.show(3)"
   ]
  },
  {
   "cell_type": "code",
   "execution_count": 31,
   "id": "2423ec87-3cc7-44ca-89d6-3a5c4d809a52",
   "metadata": {},
   "outputs": [
    {
     "name": "stderr",
     "output_type": "stream",
     "text": [
      "                                                                                \r"
     ]
    }
   ],
   "source": [
    "stocks_pd_df = stocks.toPandas()"
   ]
  },
  {
   "cell_type": "code",
   "execution_count": 32,
   "id": "d619a3af-9306-4083-9b40-d6014ef11ffe",
   "metadata": {},
   "outputs": [
    {
     "data": {
      "text/html": [
       "<div>\n",
       "<style scoped>\n",
       "    .dataframe tbody tr th:only-of-type {\n",
       "        vertical-align: middle;\n",
       "    }\n",
       "\n",
       "    .dataframe tbody tr th {\n",
       "        vertical-align: top;\n",
       "    }\n",
       "\n",
       "    .dataframe thead th {\n",
       "        text-align: right;\n",
       "    }\n",
       "</style>\n",
       "<table border=\"1\" class=\"dataframe\">\n",
       "  <thead>\n",
       "    <tr style=\"text-align: right;\">\n",
       "      <th></th>\n",
       "      <th>Date</th>\n",
       "      <th>Open</th>\n",
       "      <th>High</th>\n",
       "      <th>Low</th>\n",
       "      <th>Close</th>\n",
       "      <th>Volume</th>\n",
       "      <th>Symbol</th>\n",
       "      <th>count</th>\n",
       "    </tr>\n",
       "  </thead>\n",
       "  <tbody>\n",
       "    <tr>\n",
       "      <th>0</th>\n",
       "      <td>2013-10-23</td>\n",
       "      <td>74.14</td>\n",
       "      <td>75.10</td>\n",
       "      <td>74.14</td>\n",
       "      <td>74.99</td>\n",
       "      <td>78431122</td>\n",
       "      <td>AAPL</td>\n",
       "      <td>3520</td>\n",
       "    </tr>\n",
       "    <tr>\n",
       "      <th>1</th>\n",
       "      <td>2013-10-22</td>\n",
       "      <td>75.20</td>\n",
       "      <td>75.49</td>\n",
       "      <td>72.58</td>\n",
       "      <td>74.27</td>\n",
       "      <td>133515753</td>\n",
       "      <td>AAPL</td>\n",
       "      <td>3520</td>\n",
       "    </tr>\n",
       "    <tr>\n",
       "      <th>2</th>\n",
       "      <td>2013-10-21</td>\n",
       "      <td>73.11</td>\n",
       "      <td>74.90</td>\n",
       "      <td>73.07</td>\n",
       "      <td>74.48</td>\n",
       "      <td>99526945</td>\n",
       "      <td>AAPL</td>\n",
       "      <td>3520</td>\n",
       "    </tr>\n",
       "    <tr>\n",
       "      <th>3</th>\n",
       "      <td>2013-10-18</td>\n",
       "      <td>72.28</td>\n",
       "      <td>72.75</td>\n",
       "      <td>72.24</td>\n",
       "      <td>72.70</td>\n",
       "      <td>72635570</td>\n",
       "      <td>AAPL</td>\n",
       "      <td>3520</td>\n",
       "    </tr>\n",
       "    <tr>\n",
       "      <th>4</th>\n",
       "      <td>2013-10-17</td>\n",
       "      <td>71.43</td>\n",
       "      <td>72.11</td>\n",
       "      <td>71.38</td>\n",
       "      <td>72.07</td>\n",
       "      <td>63398335</td>\n",
       "      <td>AAPL</td>\n",
       "      <td>3520</td>\n",
       "    </tr>\n",
       "  </tbody>\n",
       "</table>\n",
       "</div>"
      ],
      "text/plain": [
       "         Date   Open   High    Low  Close     Volume Symbol  count\n",
       "0  2013-10-23  74.14  75.10  74.14  74.99   78431122   AAPL   3520\n",
       "1  2013-10-22  75.20  75.49  72.58  74.27  133515753   AAPL   3520\n",
       "2  2013-10-21  73.11  74.90  73.07  74.48   99526945   AAPL   3520\n",
       "3  2013-10-18  72.28  72.75  72.24  72.70   72635570   AAPL   3520\n",
       "4  2013-10-17  71.43  72.11  71.38  72.07   63398335   AAPL   3520"
      ]
     },
     "execution_count": 32,
     "metadata": {},
     "output_type": "execute_result"
    }
   ],
   "source": [
    "stocks_pd_df.head(5)"
   ]
  },
  {
   "cell_type": "code",
   "execution_count": 33,
   "id": "849d97ef-7bd8-4e65-9def-695481f77109",
   "metadata": {},
   "outputs": [
    {
     "name": "stderr",
     "output_type": "stream",
     "text": [
      "                                                                                \r"
     ]
    }
   ],
   "source": [
    "factors_pd_df = factors.toPandas()"
   ]
  },
  {
   "cell_type": "code",
   "execution_count": 34,
   "id": "12a979dc-1d48-457c-9740-1c7c7d367c71",
   "metadata": {},
   "outputs": [
    {
     "data": {
      "text/html": [
       "<div>\n",
       "<style scoped>\n",
       "    .dataframe tbody tr th:only-of-type {\n",
       "        vertical-align: middle;\n",
       "    }\n",
       "\n",
       "    .dataframe tbody tr th {\n",
       "        vertical-align: top;\n",
       "    }\n",
       "\n",
       "    .dataframe thead th {\n",
       "        text-align: right;\n",
       "    }\n",
       "</style>\n",
       "<table border=\"1\" class=\"dataframe\">\n",
       "  <thead>\n",
       "    <tr style=\"text-align: right;\">\n",
       "      <th></th>\n",
       "      <th>Date</th>\n",
       "      <th>Open</th>\n",
       "      <th>High</th>\n",
       "      <th>Low</th>\n",
       "      <th>Close</th>\n",
       "      <th>Volume</th>\n",
       "      <th>Symbol</th>\n",
       "    </tr>\n",
       "  </thead>\n",
       "  <tbody>\n",
       "    <tr>\n",
       "      <th>0</th>\n",
       "      <td>2013-12-31</td>\n",
       "      <td>102.29</td>\n",
       "      <td>102.55</td>\n",
       "      <td>101.17</td>\n",
       "      <td>101.86</td>\n",
       "      <td>7219195</td>\n",
       "      <td>NASDAQ%253ATLT</td>\n",
       "    </tr>\n",
       "    <tr>\n",
       "      <th>1</th>\n",
       "      <td>2013-12-30</td>\n",
       "      <td>102.15</td>\n",
       "      <td>102.58</td>\n",
       "      <td>102.08</td>\n",
       "      <td>102.51</td>\n",
       "      <td>4491711</td>\n",
       "      <td>NASDAQ%253ATLT</td>\n",
       "    </tr>\n",
       "    <tr>\n",
       "      <th>2</th>\n",
       "      <td>2013-12-27</td>\n",
       "      <td>102.07</td>\n",
       "      <td>102.31</td>\n",
       "      <td>101.69</td>\n",
       "      <td>101.81</td>\n",
       "      <td>4755262</td>\n",
       "      <td>NASDAQ%253ATLT</td>\n",
       "    </tr>\n",
       "    <tr>\n",
       "      <th>3</th>\n",
       "      <td>2013-12-26</td>\n",
       "      <td>102.35</td>\n",
       "      <td>102.36</td>\n",
       "      <td>102.01</td>\n",
       "      <td>102.10</td>\n",
       "      <td>4645323</td>\n",
       "      <td>NASDAQ%253ATLT</td>\n",
       "    </tr>\n",
       "    <tr>\n",
       "      <th>4</th>\n",
       "      <td>2013-12-24</td>\n",
       "      <td>103.23</td>\n",
       "      <td>103.35</td>\n",
       "      <td>102.80</td>\n",
       "      <td>102.83</td>\n",
       "      <td>4897009</td>\n",
       "      <td>NASDAQ%253ATLT</td>\n",
       "    </tr>\n",
       "  </tbody>\n",
       "</table>\n",
       "</div>"
      ],
      "text/plain": [
       "         Date    Open    High     Low   Close   Volume          Symbol\n",
       "0  2013-12-31  102.29  102.55  101.17  101.86  7219195  NASDAQ%253ATLT\n",
       "1  2013-12-30  102.15  102.58  102.08  102.51  4491711  NASDAQ%253ATLT\n",
       "2  2013-12-27  102.07  102.31  101.69  101.81  4755262  NASDAQ%253ATLT\n",
       "3  2013-12-26  102.35  102.36  102.01  102.10  4645323  NASDAQ%253ATLT\n",
       "4  2013-12-24  103.23  103.35  102.80  102.83  4897009  NASDAQ%253ATLT"
      ]
     },
     "execution_count": 34,
     "metadata": {},
     "output_type": "execute_result"
    }
   ],
   "source": [
    "factors_pd_df.head(5)"
   ]
  },
  {
   "cell_type": "markdown",
   "id": "36c43f38-fbb3-4c45-ae5d-0a8177928fa9",
   "metadata": {},
   "source": [
    "## Determining the Factor Weights"
   ]
  },
  {
   "cell_type": "code",
   "execution_count": 35,
   "id": "9b678484-bc90-48d8-b031-eeaa7f935693",
   "metadata": {},
   "outputs": [],
   "source": [
    "n_steps=10\n",
    "def my_fun(x):\n",
    "    return ((x.iloc[-1] -x.iloc[0]) / x.iloc[0])"
   ]
  },
  {
   "cell_type": "code",
   "execution_count": 37,
   "id": "0bb7ac1f-f7bb-44f4-b20e-7f2279319cce",
   "metadata": {},
   "outputs": [],
   "source": [
    "stock_returns = stocks_pd_df.groupby('Symbol').Close.rolling(window=n_steps).apply(my_fun)"
   ]
  },
  {
   "cell_type": "code",
   "execution_count": 38,
   "id": "048410a9-7264-45b5-9c03-8a8b71b2b315",
   "metadata": {},
   "outputs": [
    {
     "data": {
      "text/plain": [
       "Symbol         \n",
       "AAME    1514540   NaN\n",
       "        1514541   NaN\n",
       "        1514542   NaN\n",
       "        1514543   NaN\n",
       "        1514544   NaN\n",
       "Name: Close, dtype: float64"
      ]
     },
     "execution_count": 38,
     "metadata": {},
     "output_type": "execute_result"
    }
   ],
   "source": [
    "stock_returns.head(5)"
   ]
  },
  {
   "cell_type": "code",
   "execution_count": 40,
   "id": "17e34917-dd7b-4f80-a171-ed64b912f4c3",
   "metadata": {},
   "outputs": [],
   "source": [
    "factors_returns = factors_pd_df.groupby('Symbol').Close.rolling(window=n_steps).apply(my_fun)"
   ]
  },
  {
   "cell_type": "code",
   "execution_count": 41,
   "id": "c5a76a9d-cf93-4997-b7c3-29e51117a4c0",
   "metadata": {},
   "outputs": [
    {
     "data": {
      "text/plain": [
       "Symbol                \n",
       "NASDAQ%253ATLT    0            NaN\n",
       "                  1            NaN\n",
       "                  2            NaN\n",
       "                  3            NaN\n",
       "                  4            NaN\n",
       "                            ...   \n",
       "NYSEARCA%253AGLD  2101   -0.063047\n",
       "                  2102   -0.070671\n",
       "                  2103   -0.058601\n",
       "                  2104   -0.051848\n",
       "                  2105   -0.032623\n",
       "Name: Close, Length: 3159, dtype: float64"
      ]
     },
     "execution_count": 41,
     "metadata": {},
     "output_type": "execute_result"
    }
   ],
   "source": [
    "factors_returns"
   ]
  },
  {
   "cell_type": "code",
   "execution_count": 42,
   "id": "0c09b777-ee82-478c-80fa-9c1486859dd4",
   "metadata": {},
   "outputs": [],
   "source": [
    "stock_returns = stock_returns.reset_index().sort_values('level_1').reset_index()"
   ]
  },
  {
   "cell_type": "code",
   "execution_count": 43,
   "id": "da592149-6943-41da-ab73-6528a075638f",
   "metadata": {},
   "outputs": [],
   "source": [
    "factors_returns = factors_returns.reset_index().sort_values('level_1').reset_index()"
   ]
  },
  {
   "cell_type": "code",
   "execution_count": 44,
   "id": "ec34a0fd-25a2-4569-a38d-61e6663ece25",
   "metadata": {},
   "outputs": [],
   "source": [
    "stocks_pd_df_with_returns = stocks_pd_df.assign(stocks_returns=stock_returns['Close'])"
   ]
  },
  {
   "cell_type": "code",
   "execution_count": 46,
   "id": "dde59190-4bfb-4076-9450-3f6a647182a6",
   "metadata": {},
   "outputs": [
    {
     "data": {
      "text/html": [
       "<div>\n",
       "<style scoped>\n",
       "    .dataframe tbody tr th:only-of-type {\n",
       "        vertical-align: middle;\n",
       "    }\n",
       "\n",
       "    .dataframe tbody tr th {\n",
       "        vertical-align: top;\n",
       "    }\n",
       "\n",
       "    .dataframe thead th {\n",
       "        text-align: right;\n",
       "    }\n",
       "</style>\n",
       "<table border=\"1\" class=\"dataframe\">\n",
       "  <thead>\n",
       "    <tr style=\"text-align: right;\">\n",
       "      <th></th>\n",
       "      <th>Date</th>\n",
       "      <th>Open</th>\n",
       "      <th>High</th>\n",
       "      <th>Low</th>\n",
       "      <th>Close</th>\n",
       "      <th>Volume</th>\n",
       "      <th>Symbol</th>\n",
       "      <th>count</th>\n",
       "      <th>stocks_returns</th>\n",
       "    </tr>\n",
       "  </thead>\n",
       "  <tbody>\n",
       "    <tr>\n",
       "      <th>0</th>\n",
       "      <td>2013-10-23</td>\n",
       "      <td>74.14</td>\n",
       "      <td>75.10</td>\n",
       "      <td>74.14</td>\n",
       "      <td>74.99</td>\n",
       "      <td>78431122</td>\n",
       "      <td>AAPL</td>\n",
       "      <td>3520</td>\n",
       "      <td>NaN</td>\n",
       "    </tr>\n",
       "    <tr>\n",
       "      <th>1</th>\n",
       "      <td>2013-10-22</td>\n",
       "      <td>75.20</td>\n",
       "      <td>75.49</td>\n",
       "      <td>72.58</td>\n",
       "      <td>74.27</td>\n",
       "      <td>133515753</td>\n",
       "      <td>AAPL</td>\n",
       "      <td>3520</td>\n",
       "      <td>NaN</td>\n",
       "    </tr>\n",
       "    <tr>\n",
       "      <th>2</th>\n",
       "      <td>2013-10-21</td>\n",
       "      <td>73.11</td>\n",
       "      <td>74.90</td>\n",
       "      <td>73.07</td>\n",
       "      <td>74.48</td>\n",
       "      <td>99526945</td>\n",
       "      <td>AAPL</td>\n",
       "      <td>3520</td>\n",
       "      <td>NaN</td>\n",
       "    </tr>\n",
       "    <tr>\n",
       "      <th>3</th>\n",
       "      <td>2013-10-18</td>\n",
       "      <td>72.28</td>\n",
       "      <td>72.75</td>\n",
       "      <td>72.24</td>\n",
       "      <td>72.70</td>\n",
       "      <td>72635570</td>\n",
       "      <td>AAPL</td>\n",
       "      <td>3520</td>\n",
       "      <td>NaN</td>\n",
       "    </tr>\n",
       "    <tr>\n",
       "      <th>4</th>\n",
       "      <td>2013-10-17</td>\n",
       "      <td>71.43</td>\n",
       "      <td>72.11</td>\n",
       "      <td>71.38</td>\n",
       "      <td>72.07</td>\n",
       "      <td>63398335</td>\n",
       "      <td>AAPL</td>\n",
       "      <td>3520</td>\n",
       "      <td>NaN</td>\n",
       "    </tr>\n",
       "    <tr>\n",
       "      <th>...</th>\n",
       "      <td>...</td>\n",
       "      <td>...</td>\n",
       "      <td>...</td>\n",
       "      <td>...</td>\n",
       "      <td>...</td>\n",
       "      <td>...</td>\n",
       "      <td>...</td>\n",
       "      <td>...</td>\n",
       "      <td>...</td>\n",
       "    </tr>\n",
       "    <tr>\n",
       "      <th>1770088</th>\n",
       "      <td>2009-10-29</td>\n",
       "      <td>25.41</td>\n",
       "      <td>25.54</td>\n",
       "      <td>25.10</td>\n",
       "      <td>25.26</td>\n",
       "      <td>146595</td>\n",
       "      <td>ZBRA</td>\n",
       "      <td>3520</td>\n",
       "      <td>-0.068241</td>\n",
       "    </tr>\n",
       "    <tr>\n",
       "      <th>1770089</th>\n",
       "      <td>2009-10-28</td>\n",
       "      <td>25.46</td>\n",
       "      <td>25.63</td>\n",
       "      <td>25.16</td>\n",
       "      <td>25.23</td>\n",
       "      <td>381677</td>\n",
       "      <td>ZBRA</td>\n",
       "      <td>3520</td>\n",
       "      <td>-0.054348</td>\n",
       "    </tr>\n",
       "    <tr>\n",
       "      <th>1770090</th>\n",
       "      <td>2009-10-27</td>\n",
       "      <td>25.46</td>\n",
       "      <td>25.72</td>\n",
       "      <td>25.20</td>\n",
       "      <td>25.39</td>\n",
       "      <td>212442</td>\n",
       "      <td>ZBRA</td>\n",
       "      <td>3520</td>\n",
       "      <td>-0.036067</td>\n",
       "    </tr>\n",
       "    <tr>\n",
       "      <th>1770091</th>\n",
       "      <td>2009-10-26</td>\n",
       "      <td>25.55</td>\n",
       "      <td>25.78</td>\n",
       "      <td>25.19</td>\n",
       "      <td>25.47</td>\n",
       "      <td>204426</td>\n",
       "      <td>ZBRA</td>\n",
       "      <td>3520</td>\n",
       "      <td>-0.024138</td>\n",
       "    </tr>\n",
       "    <tr>\n",
       "      <th>1770092</th>\n",
       "      <td>2009-10-23</td>\n",
       "      <td>25.63</td>\n",
       "      <td>25.79</td>\n",
       "      <td>25.29</td>\n",
       "      <td>25.43</td>\n",
       "      <td>203556</td>\n",
       "      <td>ZBRA</td>\n",
       "      <td>3520</td>\n",
       "      <td>-0.024175</td>\n",
       "    </tr>\n",
       "  </tbody>\n",
       "</table>\n",
       "<p>1770093 rows × 9 columns</p>\n",
       "</div>"
      ],
      "text/plain": [
       "               Date   Open   High    Low  Close     Volume Symbol  count  \\\n",
       "0        2013-10-23  74.14  75.10  74.14  74.99   78431122   AAPL   3520   \n",
       "1        2013-10-22  75.20  75.49  72.58  74.27  133515753   AAPL   3520   \n",
       "2        2013-10-21  73.11  74.90  73.07  74.48   99526945   AAPL   3520   \n",
       "3        2013-10-18  72.28  72.75  72.24  72.70   72635570   AAPL   3520   \n",
       "4        2013-10-17  71.43  72.11  71.38  72.07   63398335   AAPL   3520   \n",
       "...             ...    ...    ...    ...    ...        ...    ...    ...   \n",
       "1770088  2009-10-29  25.41  25.54  25.10  25.26     146595   ZBRA   3520   \n",
       "1770089  2009-10-28  25.46  25.63  25.16  25.23     381677   ZBRA   3520   \n",
       "1770090  2009-10-27  25.46  25.72  25.20  25.39     212442   ZBRA   3520   \n",
       "1770091  2009-10-26  25.55  25.78  25.19  25.47     204426   ZBRA   3520   \n",
       "1770092  2009-10-23  25.63  25.79  25.29  25.43     203556   ZBRA   3520   \n",
       "\n",
       "         stocks_returns  \n",
       "0                   NaN  \n",
       "1                   NaN  \n",
       "2                   NaN  \n",
       "3                   NaN  \n",
       "4                   NaN  \n",
       "...                 ...  \n",
       "1770088       -0.068241  \n",
       "1770089       -0.054348  \n",
       "1770090       -0.036067  \n",
       "1770091       -0.024138  \n",
       "1770092       -0.024175  \n",
       "\n",
       "[1770093 rows x 9 columns]"
      ]
     },
     "execution_count": 46,
     "metadata": {},
     "output_type": "execute_result"
    }
   ],
   "source": [
    "stocks_pd_df_with_returns"
   ]
  },
  {
   "cell_type": "code",
   "execution_count": 47,
   "id": "bc57d242-300d-41aa-b36e-8517f16de4f2",
   "metadata": {},
   "outputs": [],
   "source": [
    "factors_pd_df_with_returns = factors_pd_df.assign(factors_returns=factors_returns['Close'],\\\n",
    "                    factors_returns_squared=factors_returns['Close']**2)"
   ]
  },
  {
   "cell_type": "code",
   "execution_count": 49,
   "id": "92fa8227-60ce-4fba-95d4-dc4303a3ed0a",
   "metadata": {},
   "outputs": [],
   "source": [
    "factors_pd_df_with_returns = factors_pd_df_with_returns.pivot(index='Date',\\\n",
    "            columns='Symbol', values=['factors_returns', 'factors_returns_squared'])\n"
   ]
  },
  {
   "cell_type": "code",
   "execution_count": 50,
   "id": "7d4d426d-e8c5-4428-8cc4-cc59fc4752b7",
   "metadata": {},
   "outputs": [],
   "source": [
    "factors_pd_df_with_returns.columns = factors_pd_df_with_returns.columns.to_series().\\\n",
    "            str.join('_').reset_index()[0]"
   ]
  },
  {
   "cell_type": "code",
   "execution_count": 51,
   "id": "cc212f30-cb76-46bb-a231-9c9d8bd27b77",
   "metadata": {},
   "outputs": [],
   "source": [
    "factors_pd_df_with_returns = factors_pd_df_with_returns.reset_index()"
   ]
  },
  {
   "cell_type": "code",
   "execution_count": 52,
   "id": "2a6f83a2-122f-4853-b08b-e1b95619df15",
   "metadata": {},
   "outputs": [
    {
     "data": {
      "text/html": [
       "<div>\n",
       "<style scoped>\n",
       "    .dataframe tbody tr th:only-of-type {\n",
       "        vertical-align: middle;\n",
       "    }\n",
       "\n",
       "    .dataframe tbody tr th {\n",
       "        vertical-align: top;\n",
       "    }\n",
       "\n",
       "    .dataframe thead th {\n",
       "        text-align: right;\n",
       "    }\n",
       "</style>\n",
       "<table border=\"1\" class=\"dataframe\">\n",
       "  <thead>\n",
       "    <tr style=\"text-align: right;\">\n",
       "      <th></th>\n",
       "      <th>Date</th>\n",
       "      <th>factors_returns_NASDAQ%253ATLT</th>\n",
       "      <th>factors_returns_NYSEARCA%253ACRED</th>\n",
       "      <th>factors_returns_NYSEARCA%253AGLD</th>\n",
       "      <th>factors_returns_squared_NASDAQ%253ATLT</th>\n",
       "      <th>factors_returns_squared_NYSEARCA%253ACRED</th>\n",
       "      <th>factors_returns_squared_NYSEARCA%253AGLD</th>\n",
       "    </tr>\n",
       "  </thead>\n",
       "  <tbody>\n",
       "    <tr>\n",
       "      <th>0</th>\n",
       "      <td>2009-10-23</td>\n",
       "      <td>0.018340</td>\n",
       "      <td>-0.006594</td>\n",
       "      <td>-0.032623</td>\n",
       "      <td>0.000336</td>\n",
       "      <td>0.000043</td>\n",
       "      <td>0.001064</td>\n",
       "    </tr>\n",
       "    <tr>\n",
       "      <th>1</th>\n",
       "      <td>2009-10-26</td>\n",
       "      <td>0.004179</td>\n",
       "      <td>-0.009727</td>\n",
       "      <td>-0.051848</td>\n",
       "      <td>0.000017</td>\n",
       "      <td>0.000095</td>\n",
       "      <td>0.002688</td>\n",
       "    </tr>\n",
       "    <tr>\n",
       "      <th>2</th>\n",
       "      <td>2009-10-27</td>\n",
       "      <td>0.016695</td>\n",
       "      <td>-0.001771</td>\n",
       "      <td>-0.058601</td>\n",
       "      <td>0.000279</td>\n",
       "      <td>0.000003</td>\n",
       "      <td>0.003434</td>\n",
       "    </tr>\n",
       "    <tr>\n",
       "      <th>3</th>\n",
       "      <td>2009-10-28</td>\n",
       "      <td>0.023373</td>\n",
       "      <td>0.001873</td>\n",
       "      <td>-0.070671</td>\n",
       "      <td>0.000546</td>\n",
       "      <td>0.000004</td>\n",
       "      <td>0.004994</td>\n",
       "    </tr>\n",
       "    <tr>\n",
       "      <th>4</th>\n",
       "      <td>2009-10-29</td>\n",
       "      <td>0.008008</td>\n",
       "      <td>-0.001277</td>\n",
       "      <td>-0.063047</td>\n",
       "      <td>0.000064</td>\n",
       "      <td>0.000002</td>\n",
       "      <td>0.003975</td>\n",
       "    </tr>\n",
       "  </tbody>\n",
       "</table>\n",
       "</div>"
      ],
      "text/plain": [
       "0        Date  factors_returns_NASDAQ%253ATLT  \\\n",
       "0  2009-10-23                        0.018340   \n",
       "1  2009-10-26                        0.004179   \n",
       "2  2009-10-27                        0.016695   \n",
       "3  2009-10-28                        0.023373   \n",
       "4  2009-10-29                        0.008008   \n",
       "\n",
       "0  factors_returns_NYSEARCA%253ACRED  factors_returns_NYSEARCA%253AGLD  \\\n",
       "0                          -0.006594                         -0.032623   \n",
       "1                          -0.009727                         -0.051848   \n",
       "2                          -0.001771                         -0.058601   \n",
       "3                           0.001873                         -0.070671   \n",
       "4                          -0.001277                         -0.063047   \n",
       "\n",
       "0  factors_returns_squared_NASDAQ%253ATLT  \\\n",
       "0                                0.000336   \n",
       "1                                0.000017   \n",
       "2                                0.000279   \n",
       "3                                0.000546   \n",
       "4                                0.000064   \n",
       "\n",
       "0  factors_returns_squared_NYSEARCA%253ACRED  \\\n",
       "0                                   0.000043   \n",
       "1                                   0.000095   \n",
       "2                                   0.000003   \n",
       "3                                   0.000004   \n",
       "4                                   0.000002   \n",
       "\n",
       "0  factors_returns_squared_NYSEARCA%253AGLD  \n",
       "0                                  0.001064  \n",
       "1                                  0.002688  \n",
       "2                                  0.003434  \n",
       "3                                  0.004994  \n",
       "4                                  0.003975  "
      ]
     },
     "execution_count": 52,
     "metadata": {},
     "output_type": "execute_result"
    }
   ],
   "source": [
    "factors_pd_df_with_returns.head(5)"
   ]
  },
  {
   "cell_type": "code",
   "execution_count": 56,
   "id": "eda4c6dc-db55-44c3-a877-e2c7bb01f6fc",
   "metadata": {},
   "outputs": [],
   "source": [
    "from sklearn.linear_model import LinearRegression\n",
    "import pandas as pd"
   ]
  },
  {
   "cell_type": "code",
   "execution_count": 57,
   "id": "24b5142d-0ecd-4be2-b62c-af2a19c64dc2",
   "metadata": {},
   "outputs": [],
   "source": [
    "stocks_factors_combined_df = pd.merge(stocks_pd_df_with_returns, factors_pd_df_with_returns,\\\n",
    "                                    how=\"left\", on=\"Date\")"
   ]
  },
  {
   "cell_type": "code",
   "execution_count": 58,
   "id": "a87740b1-48ec-475a-87bd-9b2b94771bc5",
   "metadata": {},
   "outputs": [
    {
     "data": {
      "text/html": [
       "<div>\n",
       "<style scoped>\n",
       "    .dataframe tbody tr th:only-of-type {\n",
       "        vertical-align: middle;\n",
       "    }\n",
       "\n",
       "    .dataframe tbody tr th {\n",
       "        vertical-align: top;\n",
       "    }\n",
       "\n",
       "    .dataframe thead th {\n",
       "        text-align: right;\n",
       "    }\n",
       "</style>\n",
       "<table border=\"1\" class=\"dataframe\">\n",
       "  <thead>\n",
       "    <tr style=\"text-align: right;\">\n",
       "      <th></th>\n",
       "      <th>Date</th>\n",
       "      <th>Open</th>\n",
       "      <th>High</th>\n",
       "      <th>Low</th>\n",
       "      <th>Close</th>\n",
       "      <th>Volume</th>\n",
       "      <th>Symbol</th>\n",
       "      <th>count</th>\n",
       "      <th>stocks_returns</th>\n",
       "      <th>factors_returns_NASDAQ%253ATLT</th>\n",
       "      <th>factors_returns_NYSEARCA%253ACRED</th>\n",
       "      <th>factors_returns_NYSEARCA%253AGLD</th>\n",
       "      <th>factors_returns_squared_NASDAQ%253ATLT</th>\n",
       "      <th>factors_returns_squared_NYSEARCA%253ACRED</th>\n",
       "      <th>factors_returns_squared_NYSEARCA%253AGLD</th>\n",
       "    </tr>\n",
       "  </thead>\n",
       "  <tbody>\n",
       "    <tr>\n",
       "      <th>0</th>\n",
       "      <td>2013-10-23</td>\n",
       "      <td>74.14</td>\n",
       "      <td>75.10</td>\n",
       "      <td>74.14</td>\n",
       "      <td>74.99</td>\n",
       "      <td>78431122</td>\n",
       "      <td>AAPL</td>\n",
       "      <td>3520</td>\n",
       "      <td>NaN</td>\n",
       "      <td>0.031327</td>\n",
       "      <td>0.011085</td>\n",
       "      <td>0.016830</td>\n",
       "      <td>0.000981</td>\n",
       "      <td>0.000123</td>\n",
       "      <td>2.832476e-04</td>\n",
       "    </tr>\n",
       "    <tr>\n",
       "      <th>1</th>\n",
       "      <td>2013-10-22</td>\n",
       "      <td>75.20</td>\n",
       "      <td>75.49</td>\n",
       "      <td>72.58</td>\n",
       "      <td>74.27</td>\n",
       "      <td>133515753</td>\n",
       "      <td>AAPL</td>\n",
       "      <td>3520</td>\n",
       "      <td>NaN</td>\n",
       "      <td>0.015053</td>\n",
       "      <td>0.006313</td>\n",
       "      <td>0.019951</td>\n",
       "      <td>0.000227</td>\n",
       "      <td>0.000040</td>\n",
       "      <td>3.980467e-04</td>\n",
       "    </tr>\n",
       "    <tr>\n",
       "      <th>2</th>\n",
       "      <td>2013-10-21</td>\n",
       "      <td>73.11</td>\n",
       "      <td>74.90</td>\n",
       "      <td>73.07</td>\n",
       "      <td>74.48</td>\n",
       "      <td>99526945</td>\n",
       "      <td>AAPL</td>\n",
       "      <td>3520</td>\n",
       "      <td>NaN</td>\n",
       "      <td>0.004803</td>\n",
       "      <td>0.003623</td>\n",
       "      <td>0.000236</td>\n",
       "      <td>0.000023</td>\n",
       "      <td>0.000013</td>\n",
       "      <td>5.584407e-08</td>\n",
       "    </tr>\n",
       "    <tr>\n",
       "      <th>3</th>\n",
       "      <td>2013-10-18</td>\n",
       "      <td>72.28</td>\n",
       "      <td>72.75</td>\n",
       "      <td>72.24</td>\n",
       "      <td>72.70</td>\n",
       "      <td>72635570</td>\n",
       "      <td>AAPL</td>\n",
       "      <td>3520</td>\n",
       "      <td>NaN</td>\n",
       "      <td>-0.005574</td>\n",
       "      <td>-0.003138</td>\n",
       "      <td>-0.006967</td>\n",
       "      <td>0.000031</td>\n",
       "      <td>0.000010</td>\n",
       "      <td>4.854295e-05</td>\n",
       "    </tr>\n",
       "    <tr>\n",
       "      <th>4</th>\n",
       "      <td>2013-10-17</td>\n",
       "      <td>71.43</td>\n",
       "      <td>72.11</td>\n",
       "      <td>71.38</td>\n",
       "      <td>72.07</td>\n",
       "      <td>63398335</td>\n",
       "      <td>AAPL</td>\n",
       "      <td>3520</td>\n",
       "      <td>NaN</td>\n",
       "      <td>-0.005586</td>\n",
       "      <td>-0.003601</td>\n",
       "      <td>-0.016821</td>\n",
       "      <td>0.000031</td>\n",
       "      <td>0.000013</td>\n",
       "      <td>2.829456e-04</td>\n",
       "    </tr>\n",
       "  </tbody>\n",
       "</table>\n",
       "</div>"
      ],
      "text/plain": [
       "         Date   Open   High    Low  Close     Volume Symbol  count  \\\n",
       "0  2013-10-23  74.14  75.10  74.14  74.99   78431122   AAPL   3520   \n",
       "1  2013-10-22  75.20  75.49  72.58  74.27  133515753   AAPL   3520   \n",
       "2  2013-10-21  73.11  74.90  73.07  74.48   99526945   AAPL   3520   \n",
       "3  2013-10-18  72.28  72.75  72.24  72.70   72635570   AAPL   3520   \n",
       "4  2013-10-17  71.43  72.11  71.38  72.07   63398335   AAPL   3520   \n",
       "\n",
       "   stocks_returns  factors_returns_NASDAQ%253ATLT  \\\n",
       "0             NaN                        0.031327   \n",
       "1             NaN                        0.015053   \n",
       "2             NaN                        0.004803   \n",
       "3             NaN                       -0.005574   \n",
       "4             NaN                       -0.005586   \n",
       "\n",
       "   factors_returns_NYSEARCA%253ACRED  factors_returns_NYSEARCA%253AGLD  \\\n",
       "0                           0.011085                          0.016830   \n",
       "1                           0.006313                          0.019951   \n",
       "2                           0.003623                          0.000236   \n",
       "3                          -0.003138                         -0.006967   \n",
       "4                          -0.003601                         -0.016821   \n",
       "\n",
       "   factors_returns_squared_NASDAQ%253ATLT  \\\n",
       "0                                0.000981   \n",
       "1                                0.000227   \n",
       "2                                0.000023   \n",
       "3                                0.000031   \n",
       "4                                0.000031   \n",
       "\n",
       "   factors_returns_squared_NYSEARCA%253ACRED  \\\n",
       "0                                   0.000123   \n",
       "1                                   0.000040   \n",
       "2                                   0.000013   \n",
       "3                                   0.000010   \n",
       "4                                   0.000013   \n",
       "\n",
       "   factors_returns_squared_NYSEARCA%253AGLD  \n",
       "0                              2.832476e-04  \n",
       "1                              3.980467e-04  \n",
       "2                              5.584407e-08  \n",
       "3                              4.854295e-05  \n",
       "4                              2.829456e-04  "
      ]
     },
     "execution_count": 58,
     "metadata": {},
     "output_type": "execute_result"
    }
   ],
   "source": [
    "stocks_factors_combined_df.head(5)"
   ]
  },
  {
   "cell_type": "code",
   "execution_count": 59,
   "id": "a0db0434-71dd-41ac-bd96-bcf21ee916ef",
   "metadata": {},
   "outputs": [],
   "source": [
    "feature_columns = list(stocks_factors_combined_df.columns[-6:])"
   ]
  },
  {
   "cell_type": "code",
   "execution_count": 60,
   "id": "44c81a9a-73f3-429c-8fe6-5abfad3317b4",
   "metadata": {},
   "outputs": [
    {
     "data": {
      "text/plain": [
       "['factors_returns_NASDAQ%253ATLT',\n",
       " 'factors_returns_NYSEARCA%253ACRED',\n",
       " 'factors_returns_NYSEARCA%253AGLD',\n",
       " 'factors_returns_squared_NASDAQ%253ATLT',\n",
       " 'factors_returns_squared_NYSEARCA%253ACRED',\n",
       " 'factors_returns_squared_NYSEARCA%253AGLD']"
      ]
     },
     "execution_count": 60,
     "metadata": {},
     "output_type": "execute_result"
    }
   ],
   "source": [
    "feature_columns"
   ]
  },
  {
   "cell_type": "code",
   "execution_count": 70,
   "id": "8634e4f6-60da-49dd-aed1-a065bb66581c",
   "metadata": {},
   "outputs": [],
   "source": [
    "with pd.option_context('mode.use_inf_as_na', True):\n",
    "    stocks_factors_combined_df=stocks_factors_combined_df.dropna(subset=feature_columns\\\n",
    "                                                                    + ['stocks_returns'])"
   ]
  },
  {
   "cell_type": "code",
   "execution_count": 73,
   "id": "d0f5c6b8-113e-4aa5-8f1f-8de3cad59343",
   "metadata": {},
   "outputs": [],
   "source": [
    "def find_ols_coef(df):\n",
    "    y = df[['stocks_returns']].values\n",
    "    X = df[feature_columns]\n",
    "\n",
    "    regr = LinearRegression()\n",
    "    regr_output = regr.fit(X, y)\n",
    "\n",
    "    return list(df[['Symbol']].values[0])+ list(regr_output.coef_[0])"
   ]
  },
  {
   "cell_type": "code",
   "execution_count": 90,
   "id": "1f04f161-bcd9-4404-8d38-255fde38ad57",
   "metadata": {},
   "outputs": [],
   "source": [
    "coefs_per_stocks = stocks_factors_combined_df.groupby('Symbol').apply(find_ols_coef)"
   ]
  },
  {
   "cell_type": "code",
   "execution_count": 91,
   "id": "8d4fc10e-63dd-4c0a-9fda-890b80d96dab",
   "metadata": {},
   "outputs": [],
   "source": [
    "coefs_per_stocks = pd.DataFrame(coefs_per_stocks).reset_index()"
   ]
  },
  {
   "cell_type": "code",
   "execution_count": 92,
   "id": "c6066637-44ad-4450-b366-ae8197b5f714",
   "metadata": {},
   "outputs": [
    {
     "data": {
      "text/html": [
       "<div>\n",
       "<style scoped>\n",
       "    .dataframe tbody tr th:only-of-type {\n",
       "        vertical-align: middle;\n",
       "    }\n",
       "\n",
       "    .dataframe tbody tr th {\n",
       "        vertical-align: top;\n",
       "    }\n",
       "\n",
       "    .dataframe thead th {\n",
       "        text-align: right;\n",
       "    }\n",
       "</style>\n",
       "<table border=\"1\" class=\"dataframe\">\n",
       "  <thead>\n",
       "    <tr style=\"text-align: right;\">\n",
       "      <th></th>\n",
       "      <th>Symbol</th>\n",
       "      <th>0</th>\n",
       "    </tr>\n",
       "  </thead>\n",
       "  <tbody>\n",
       "    <tr>\n",
       "      <th>0</th>\n",
       "      <td>AAME</td>\n",
       "      <td>[AAME, -0.36078742852174495, -0.16561535388279...</td>\n",
       "    </tr>\n",
       "    <tr>\n",
       "      <th>1</th>\n",
       "      <td>AAON</td>\n",
       "      <td>[AAON, -1.320765057167287, 1.5821356187324118,...</td>\n",
       "    </tr>\n",
       "    <tr>\n",
       "      <th>2</th>\n",
       "      <td>AAPL</td>\n",
       "      <td>[AAPL, -0.938763395577243, 1.318915471652033, ...</td>\n",
       "    </tr>\n",
       "    <tr>\n",
       "      <th>3</th>\n",
       "      <td>AAWW</td>\n",
       "      <td>[AAWW, -2.1150491780790555, 3.2843088904530675...</td>\n",
       "    </tr>\n",
       "    <tr>\n",
       "      <th>4</th>\n",
       "      <td>AAXJ</td>\n",
       "      <td>[AAXJ, -1.2566753468241727, 2.3519385401414037...</td>\n",
       "    </tr>\n",
       "  </tbody>\n",
       "</table>\n",
       "</div>"
      ],
      "text/plain": [
       "  Symbol                                                  0\n",
       "0   AAME  [AAME, -0.36078742852174495, -0.16561535388279...\n",
       "1   AAON  [AAON, -1.320765057167287, 1.5821356187324118,...\n",
       "2   AAPL  [AAPL, -0.938763395577243, 1.318915471652033, ...\n",
       "3   AAWW  [AAWW, -2.1150491780790555, 3.2843088904530675...\n",
       "4   AAXJ  [AAXJ, -1.2566753468241727, 2.3519385401414037..."
      ]
     },
     "execution_count": 92,
     "metadata": {},
     "output_type": "execute_result"
    }
   ],
   "source": [
    "coefs_per_stocks.head(5)"
   ]
  },
  {
   "cell_type": "code",
   "execution_count": 93,
   "id": "5922a918-6697-4114-bef7-dcc6f8e84174",
   "metadata": {},
   "outputs": [],
   "source": [
    "coefs_per_stocks.columns = ['symbol', 'factor_coef_list']"
   ]
  },
  {
   "cell_type": "code",
   "execution_count": 94,
   "id": "9fa864c3-bf31-401e-9b1e-6c4b72ed5f73",
   "metadata": {},
   "outputs": [],
   "source": [
    "coefs_per_stocks = pd.DataFrame(coefs_per_stocks.factor_coef_list.tolist(),\\\n",
    "                index=coefs_per_stocks.index, columns=['Symbol']+feature_columns)"
   ]
  },
  {
   "cell_type": "code",
   "execution_count": 95,
   "id": "dc49ac86-f585-4d04-9c36-5a0dc11832df",
   "metadata": {},
   "outputs": [
    {
     "data": {
      "text/html": [
       "<div>\n",
       "<style scoped>\n",
       "    .dataframe tbody tr th:only-of-type {\n",
       "        vertical-align: middle;\n",
       "    }\n",
       "\n",
       "    .dataframe tbody tr th {\n",
       "        vertical-align: top;\n",
       "    }\n",
       "\n",
       "    .dataframe thead th {\n",
       "        text-align: right;\n",
       "    }\n",
       "</style>\n",
       "<table border=\"1\" class=\"dataframe\">\n",
       "  <thead>\n",
       "    <tr style=\"text-align: right;\">\n",
       "      <th></th>\n",
       "      <th>Symbol</th>\n",
       "      <th>factors_returns_NASDAQ%253ATLT</th>\n",
       "      <th>factors_returns_NYSEARCA%253ACRED</th>\n",
       "      <th>factors_returns_NYSEARCA%253AGLD</th>\n",
       "      <th>factors_returns_squared_NASDAQ%253ATLT</th>\n",
       "      <th>factors_returns_squared_NYSEARCA%253ACRED</th>\n",
       "      <th>factors_returns_squared_NYSEARCA%253AGLD</th>\n",
       "    </tr>\n",
       "  </thead>\n",
       "  <tbody>\n",
       "    <tr>\n",
       "      <th>0</th>\n",
       "      <td>AAME</td>\n",
       "      <td>-0.360787</td>\n",
       "      <td>-0.165615</td>\n",
       "      <td>0.041222</td>\n",
       "      <td>4.273613</td>\n",
       "      <td>-20.505742</td>\n",
       "      <td>1.833947</td>\n",
       "    </tr>\n",
       "    <tr>\n",
       "      <th>1</th>\n",
       "      <td>AAON</td>\n",
       "      <td>-1.320765</td>\n",
       "      <td>1.582136</td>\n",
       "      <td>-0.013679</td>\n",
       "      <td>5.034547</td>\n",
       "      <td>-16.690021</td>\n",
       "      <td>-0.978665</td>\n",
       "    </tr>\n",
       "    <tr>\n",
       "      <th>2</th>\n",
       "      <td>AAPL</td>\n",
       "      <td>-0.938763</td>\n",
       "      <td>1.318915</td>\n",
       "      <td>0.415050</td>\n",
       "      <td>-0.207201</td>\n",
       "      <td>23.813545</td>\n",
       "      <td>-0.804982</td>\n",
       "    </tr>\n",
       "    <tr>\n",
       "      <th>3</th>\n",
       "      <td>AAWW</td>\n",
       "      <td>-2.115049</td>\n",
       "      <td>3.284309</td>\n",
       "      <td>0.343610</td>\n",
       "      <td>10.474248</td>\n",
       "      <td>-77.580492</td>\n",
       "      <td>0.334246</td>\n",
       "    </tr>\n",
       "    <tr>\n",
       "      <th>4</th>\n",
       "      <td>AAXJ</td>\n",
       "      <td>-1.256675</td>\n",
       "      <td>2.351939</td>\n",
       "      <td>0.310289</td>\n",
       "      <td>4.557003</td>\n",
       "      <td>16.988597</td>\n",
       "      <td>-1.045195</td>\n",
       "    </tr>\n",
       "  </tbody>\n",
       "</table>\n",
       "</div>"
      ],
      "text/plain": [
       "  Symbol  factors_returns_NASDAQ%253ATLT  factors_returns_NYSEARCA%253ACRED  \\\n",
       "0   AAME                       -0.360787                          -0.165615   \n",
       "1   AAON                       -1.320765                           1.582136   \n",
       "2   AAPL                       -0.938763                           1.318915   \n",
       "3   AAWW                       -2.115049                           3.284309   \n",
       "4   AAXJ                       -1.256675                           2.351939   \n",
       "\n",
       "   factors_returns_NYSEARCA%253AGLD  factors_returns_squared_NASDAQ%253ATLT  \\\n",
       "0                          0.041222                                4.273613   \n",
       "1                         -0.013679                                5.034547   \n",
       "2                          0.415050                               -0.207201   \n",
       "3                          0.343610                               10.474248   \n",
       "4                          0.310289                                4.557003   \n",
       "\n",
       "   factors_returns_squared_NYSEARCA%253ACRED  \\\n",
       "0                                 -20.505742   \n",
       "1                                 -16.690021   \n",
       "2                                  23.813545   \n",
       "3                                 -77.580492   \n",
       "4                                  16.988597   \n",
       "\n",
       "   factors_returns_squared_NYSEARCA%253AGLD  \n",
       "0                                  1.833947  \n",
       "1                                 -0.978665  \n",
       "2                                 -0.804982  \n",
       "3                                  0.334246  \n",
       "4                                 -1.045195  "
      ]
     },
     "execution_count": 95,
     "metadata": {},
     "output_type": "execute_result"
    }
   ],
   "source": [
    "coefs_per_stocks.head(5)"
   ]
  },
  {
   "cell_type": "code",
   "execution_count": 96,
   "id": "f5106769-a812-43df-a3fa-1d99d1618e63",
   "metadata": {},
   "outputs": [],
   "source": [
    "samples = factors_returns.loc[factors_returns.Symbol == factors_returns.Symbol.unique()[0]]['Close']"
   ]
  },
  {
   "cell_type": "code",
   "execution_count": 97,
   "id": "ce04abf3-96e2-4c89-9b4f-56a9b59530d4",
   "metadata": {},
   "outputs": [
    {
     "data": {
      "text/plain": [
       "<Axes: ylabel='Density'>"
      ]
     },
     "execution_count": 97,
     "metadata": {},
     "output_type": "execute_result"
    },
    {
     "data": {
      "image/png": "[encoded data removed]",
      "text/plain": [
       "<Figure size 640x480 with 1 Axes>"
      ]
     },
     "metadata": {},
     "output_type": "display_data"
    }
   ],
   "source": [
    "samples.plot.kde()"
   ]
  },
  {
   "cell_type": "code",
   "execution_count": 98,
   "id": "3f270c82-786b-45b3-9380-76d0bfff0216",
   "metadata": {},
   "outputs": [],
   "source": [
    "f_1 = factors_returns.loc[factors_returns.Symbol==factors_returns.Symbol.unique()[0]]['Close']\n",
    "f_2 = factors_returns.loc[factors_returns.Symbol==factors_returns.Symbol.unique()[1]]['Close']\n",
    "f_3 = factors_returns.loc[factors_returns.Symbol==factors_returns.Symbol.unique()[2]]['Close']"
   ]
  },
  {
   "cell_type": "code",
   "execution_count": 105,
   "id": "68d35f11-d602-4aff-b149-b4bdf9bcbba1",
   "metadata": {},
   "outputs": [
    {
     "name": "stdout",
     "output_type": "stream",
     "text": [
      "1052 1054 1053\n"
     ]
    },
    {
     "data": {
      "text/html": [
       "<div>\n",
       "<style scoped>\n",
       "    .dataframe tbody tr th:only-of-type {\n",
       "        vertical-align: middle;\n",
       "    }\n",
       "\n",
       "    .dataframe tbody tr th {\n",
       "        vertical-align: top;\n",
       "    }\n",
       "\n",
       "    .dataframe thead th {\n",
       "        text-align: right;\n",
       "    }\n",
       "</style>\n",
       "<table border=\"1\" class=\"dataframe\">\n",
       "  <thead>\n",
       "    <tr style=\"text-align: right;\">\n",
       "      <th></th>\n",
       "      <th>f1</th>\n",
       "      <th>f2</th>\n",
       "      <th>f3</th>\n",
       "    </tr>\n",
       "  </thead>\n",
       "  <tbody>\n",
       "    <tr>\n",
       "      <th>f1</th>\n",
       "      <td>1.000000</td>\n",
       "      <td>0.074578</td>\n",
       "      <td>0.530550</td>\n",
       "    </tr>\n",
       "    <tr>\n",
       "      <th>f2</th>\n",
       "      <td>0.074578</td>\n",
       "      <td>1.000000</td>\n",
       "      <td>0.206538</td>\n",
       "    </tr>\n",
       "    <tr>\n",
       "      <th>f3</th>\n",
       "      <td>0.530550</td>\n",
       "      <td>0.206538</td>\n",
       "      <td>1.000000</td>\n",
       "    </tr>\n",
       "  </tbody>\n",
       "</table>\n",
       "</div>"
      ],
      "text/plain": [
       "          f1        f2        f3\n",
       "f1  1.000000  0.074578  0.530550\n",
       "f2  0.074578  1.000000  0.206538\n",
       "f3  0.530550  0.206538  1.000000"
      ]
     },
     "execution_count": 105,
     "metadata": {},
     "output_type": "execute_result"
    }
   ],
   "source": [
    "print(len(list(f_1)), len(list(f_2)), len(list(f_3)))\n",
    "list_f1 = len(list(f_1))\n",
    "list_f2 = len(list(f_2))\n",
    "list_f3 = len(list(f_3))\n",
    "pd.DataFrame({'f1':list(f_1), 'f2':list(f_2)[:list_f1], 'f3':list(f_3)[:list_f1]}).corr()"
   ]
  },
  {
   "cell_type": "code",
   "execution_count": 107,
   "id": "271fc81d-a157-4050-b659-05237d82e2b4",
   "metadata": {},
   "outputs": [],
   "source": [
    "factors_returns_cov = pd.DataFrame({'f1': list(f_1),\n",
    "                                    'f2': list(f_2)[:list_f1],\n",
    "                                    'f3': list(f_3)[:list_f1]}).cov().to_numpy()"
   ]
  },
  {
   "cell_type": "code",
   "execution_count": 110,
   "id": "c8d42edc-73d0-43ca-abb9-d76fbdadaecb",
   "metadata": {},
   "outputs": [],
   "source": [
    "factors_returns_mean = pd.DataFrame({'f1': list(f_1),\n",
    "                                    'f2': list(f_2)[:list_f1],\n",
    "                                    'f3': list(f_3)[:list_f1]}).mean()"
   ]
  },
  {
   "cell_type": "code",
   "execution_count": 111,
   "id": "d9c52bbf-a93f-4d2e-b8b7-2e0cd14437e1",
   "metadata": {},
   "outputs": [],
   "source": [
    "from numpy.random import multivariate_normal"
   ]
  },
  {
   "cell_type": "code",
   "execution_count": 112,
   "id": "a48c1707-3f96-48e5-8a2b-4af29b485884",
   "metadata": {},
   "outputs": [
    {
     "data": {
      "text/plain": [
       "array([0.00535115, 0.07209566, 0.00060792])"
      ]
     },
     "execution_count": 112,
     "metadata": {},
     "output_type": "execute_result"
    }
   ],
   "source": [
    "multivariate_normal(factors_returns_mean, factors_returns_cov)"
   ]
  },
  {
   "cell_type": "markdown",
   "id": "fd57ec2e-81f2-4df3-8c4a-15172310165c",
   "metadata": {},
   "source": [
    "## Running the Trials"
   ]
  },
  {
   "cell_type": "code",
   "execution_count": 113,
   "id": "f949a5c7-cf66-413a-9342-1a77389f65de",
   "metadata": {},
   "outputs": [],
   "source": [
    "from pyspark.sql.types import IntegerType\n",
    "\n",
    "parallelism = 1000\n",
    "num_trials = 1000000\n",
    "base_seed = 1496"
   ]
  },
  {
   "cell_type": "code",
   "execution_count": 114,
   "id": "8f044d53-02ff-4648-9350-33ee29bca36c",
   "metadata": {},
   "outputs": [],
   "source": [
    "seeds = [b for b in range(base_seed, base_seed+ parallelism)]\n",
    "seedsDF = spark.createDataFrame(seeds, IntegerType())\n",
    "seedsDF = seedsDF.repartition(parallelism)"
   ]
  },
  {
   "cell_type": "code",
   "execution_count": 116,
   "id": "5f547741-beae-444a-923e-08adcf35e70d",
   "metadata": {},
   "outputs": [],
   "source": [
    "b_coefs_per_stock = spark.sparkContext.broadcast(coefs_per_stocks)\n",
    "b_feature_columns = spark.sparkContext.broadcast(feature_columns)\n",
    "b_factors_returns_mean = spark.sparkContext.broadcast(factors_returns_mean)\n",
    "b_factors_returns_cov = spark.sparkContext.broadcast(factors_returns_cov)"
   ]
  },
  {
   "cell_type": "code",
   "execution_count": 134,
   "id": "02bdcd46-f1dd-44cc-9c68-01d8a59d060e",
   "metadata": {},
   "outputs": [],
   "source": [
    "import random\n",
    "from numpy.random import seed\n",
    "\n",
    "from pyspark.sql.types import LongType, ArrayType, DoubleType\n",
    "from pyspark.sql.functions import udf\n",
    "\n",
    "def calculate_trial_return(x):\n",
    "    trial_return_list = []\n",
    "\n",
    "    for i in range(int(num_trials/parallelism)):\n",
    "        random_int = random.randint(0, num_trials*num_trials)\n",
    "        seed(x)\n",
    "\n",
    "        random_factors = multivariate_normal(b_factors_returns_mean.value,\n",
    "                        b_factors_returns_cov.value)\n",
    "\n",
    "        coefs_per_stock_df = b_coefs_per_stock.value\n",
    "        returns_per_stock = (coefs_per_stock_df[b_feature_columns.value] *\\\n",
    "            (list(random_factors) + list(random_factors**2)))\n",
    "        \n",
    "        trial_return_list.append(float(returns_per_stock.sum(axis=1).sum()/b_coefs_per_stock.value.size))\n",
    "    return trial_return_list    "
   ]
  },
  {
   "cell_type": "code",
   "execution_count": 135,
   "id": "c30c3ed0-82d3-4e10-b4e3-7f7c5aa950c0",
   "metadata": {},
   "outputs": [],
   "source": [
    "udf_return = udf(calculate_trial_return, ArrayType(DoubleType()))"
   ]
  },
  {
   "cell_type": "code",
   "execution_count": 136,
   "id": "40f6082c-c2d6-4bcf-8355-c56cda8922d9",
   "metadata": {},
   "outputs": [],
   "source": [
    "from pyspark.sql.functions import col, explode"
   ]
  },
  {
   "cell_type": "code",
   "execution_count": 137,
   "id": "861eb276-cb86-40ca-8676-ccc6c1882394",
   "metadata": {},
   "outputs": [],
   "source": [
    "trials = seedsDF.withColumn(\"trial_return\", udf_return(col(\"value\")))"
   ]
  },
  {
   "cell_type": "code",
   "execution_count": 138,
   "id": "eaf905a0-8224-4169-882f-7252da2e5d05",
   "metadata": {},
   "outputs": [],
   "source": [
    "trials = trials.select(\"value\", explode('trial_return').alias('trial_return'))"
   ]
  },
  {
   "cell_type": "code",
   "execution_count": 139,
   "id": "e1e419d3-32cd-4c6a-b561-03c9b8298248",
   "metadata": {},
   "outputs": [
    {
     "data": {
      "text/plain": [
       "DataFrame[value: int, trial_return: double]"
      ]
     },
     "execution_count": 139,
     "metadata": {},
     "output_type": "execute_result"
    }
   ],
   "source": [
    "trials.cache()"
   ]
  },
  {
   "cell_type": "code",
   "execution_count": 140,
   "id": "f3f0faed-bbbf-4c75-9c8f-1266107adc77",
   "metadata": {},
   "outputs": [
    {
     "name": "stderr",
     "output_type": "stream",
     "text": [
      "                                                                                \r"
     ]
    },
    {
     "data": {
      "text/plain": [
       "[-0.022576795788500335]"
      ]
     },
     "execution_count": 140,
     "metadata": {},
     "output_type": "execute_result"
    }
   ],
   "source": [
    "trials.approxQuantile('trial_return', [0.05], 0.0)"
   ]
  },
  {
   "cell_type": "code",
   "execution_count": 144,
   "id": "773129fd-6c8c-4d4f-b8ac-c6b9ccbf3b23",
   "metadata": {},
   "outputs": [
    {
     "name": "stderr",
     "output_type": "stream",
     "text": [
      "[Stage 42:====================================================(1000 + 0) / 1000]\r"
     ]
    },
    {
     "name": "stdout",
     "output_type": "stream",
     "text": [
      "+--------------------+\n",
      "|   avg(trial_return)|\n",
      "+--------------------+\n",
      "|-0.03008066140295...|\n",
      "+--------------------+\n",
      "\n"
     ]
    },
    {
     "name": "stderr",
     "output_type": "stream",
     "text": [
      "                                                                                \r"
     ]
    }
   ],
   "source": [
    "trials.orderBy(col('trial_return').asc()).limit(int(trials.count()/20)).agg(fun.avg(col(\"trial_return\"))).show()"
   ]
  },
  {
   "cell_type": "code",
   "execution_count": null,
   "id": "b2d387ab-1fb6-43f8-84ec-d6fa09b900c8",
   "metadata": {},
   "outputs": [],
   "source": []
  }
 ],
 "metadata": {
  "kernelspec": {
   "display_name": "Python 3 (ipykernel)",
   "language": "python",
   "name": "python3"
  },
  "language_info": {
   "codemirror_mode": {
    "name": "ipython",
    "version": 3
   },
   "file_extension": ".py",
   "mimetype": "text/x-python",
   "name": "python",
   "nbconvert_exporter": "python",
   "pygments_lexer": "ipython3",
   "version": "3.8.18"
  }
 },
 "nbformat": 4,
 "nbformat_minor": 5
}
