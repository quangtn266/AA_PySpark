{
 "cells": [
  {
   "cell_type": "code",
   "execution_count": 1,
   "id": "3d8dba5b-bb24-46cd-80bf-2f4a6e4aa89b",
   "metadata": {},
   "outputs": [],
   "source": [
    "import pyspark\n",
    "from pyspark.sql import SparkSession"
   ]
  },
  {
   "cell_type": "code",
   "execution_count": 2,
   "id": "4b336170-fc68-423c-8b08-70990d9e446a",
   "metadata": {},
   "outputs": [
    {
     "name": "stderr",
     "output_type": "stream",
     "text": [
      "23/12/29 15:24:17 WARN Utils: Your hostname, quangtn933.local resolves to a loopback address: 127.0.0.1; using 192.168.1.90 instead (on interface en0)\n",
      "23/12/29 15:24:17 WARN Utils: Set SPARK_LOCAL_IP if you need to bind to another address\n",
      "Setting default log level to \"WARN\".\n",
      "To adjust logging level use sc.setLogLevel(newLevel). For SparkR, use setLogLevel(newLevel).\n",
      "23/12/29 15:24:18 WARN NativeCodeLoader: Unable to load native-hadoop library for your platform... using builtin-java classes where applicable\n"
     ]
    }
   ],
   "source": [
    "spark = SparkSession.builder.config(\"spark.driver.memory\", \"6g\").appName('chapter3').getOrCreate()"
   ]
  },
  {
   "cell_type": "markdown",
   "id": "4497c077-8e50-4e07-8b5f-7496f0d222a6",
   "metadata": {},
   "source": [
    "## Loading data."
   ]
  },
  {
   "cell_type": "code",
   "execution_count": 3,
   "id": "d35d8ffc-6e91-44df-81ca-7d87b7952e7c",
   "metadata": {},
   "outputs": [],
   "source": [
    "raw_user_artist_path = \"/Users/quangtn/Desktop/01_work/01_job/02_ml/PySpark/chapter3/data/user_artist_data.txt\""
   ]
  },
  {
   "cell_type": "code",
   "execution_count": 4,
   "id": "cf487e89-8691-4ce3-8464-80dbf2c47d50",
   "metadata": {},
   "outputs": [],
   "source": [
    "raw_user_artist_data = spark.read.text(raw_user_artist_path)"
   ]
  },
  {
   "cell_type": "code",
   "execution_count": 5,
   "id": "26e06414-3302-4b63-908f-d10a597ec0ec",
   "metadata": {},
   "outputs": [
    {
     "name": "stderr",
     "output_type": "stream",
     "text": [
      "                                                                                \r"
     ]
    },
    {
     "name": "stdout",
     "output_type": "stream",
     "text": [
      "+-------------------+\n",
      "|              value|\n",
      "+-------------------+\n",
      "|       1000002 1 55|\n",
      "| 1000002 1000006 33|\n",
      "|  1000002 1000007 8|\n",
      "|1000002 1000009 144|\n",
      "|1000002 1000010 314|\n",
      "+-------------------+\n",
      "only showing top 5 rows\n",
      "\n"
     ]
    }
   ],
   "source": [
    "raw_user_artist_data.show(5)"
   ]
  },
  {
   "cell_type": "code",
   "execution_count": 6,
   "id": "30d68b52-5e7d-43c7-afe7-37464fdb27c4",
   "metadata": {},
   "outputs": [
    {
     "name": "stdout",
     "output_type": "stream",
     "text": [
      "+--------------------+\n",
      "|               value|\n",
      "+--------------------+\n",
      "|1134999\\t06Crazy ...|\n",
      "|6821360\\tPang Nak...|\n",
      "|10113088\\tTerfel,...|\n",
      "|10151459\\tThe Fla...|\n",
      "|6826647\\tBodensta...|\n",
      "+--------------------+\n",
      "only showing top 5 rows\n",
      "\n"
     ]
    }
   ],
   "source": [
    "raw_artist_data = spark.read.text(\"/Users/quangtn/Desktop/01_work/01_job/02_ml/PySpark/chapter3/data/artist_data.txt\")\n",
    "raw_artist_data.show(5)"
   ]
  },
  {
   "cell_type": "code",
   "execution_count": 7,
   "id": "d494116a-936a-4ab5-ae6e-055812f42487",
   "metadata": {},
   "outputs": [
    {
     "name": "stdout",
     "output_type": "stream",
     "text": [
      "+-----------------+\n",
      "|            value|\n",
      "+-----------------+\n",
      "| 1092764\\t1000311|\n",
      "| 1095122\\t1000557|\n",
      "| 6708070\\t1007267|\n",
      "|10088054\\t1042317|\n",
      "| 1195917\\t1042317|\n",
      "+-----------------+\n",
      "only showing top 5 rows\n",
      "\n"
     ]
    }
   ],
   "source": [
    "raw_artist_alias = spark.read.text(\"/Users/quangtn/Desktop/01_work/01_job/02_ml/PySpark/chapter3/data/artist_alias.txt\")\n",
    "raw_artist_alias.show(5)"
   ]
  },
  {
   "cell_type": "markdown",
   "id": "73efacc4-2ba7-415a-a2cf-b3d99eef5c4a",
   "metadata": {},
   "source": [
    "## Preparing the Data"
   ]
  },
  {
   "cell_type": "code",
   "execution_count": 8,
   "id": "80e46143-004e-47d1-aadd-ef1d6705156c",
   "metadata": {},
   "outputs": [],
   "source": [
    "from pyspark.sql.functions import split, min, max\n",
    "from pyspark.sql.types import IntegerType, StringType\n",
    "\n",
    "user_artist_df = raw_user_artist_data.withColumn('user', split(raw_user_artist_data['value'], ' ').getItem(0).cast(IntegerType()))"
   ]
  },
  {
   "cell_type": "code",
   "execution_count": 9,
   "id": "2930d2b2-92c0-4aa8-b476-5735ea29e492",
   "metadata": {},
   "outputs": [
    {
     "name": "stdout",
     "output_type": "stream",
     "text": [
      "+-------------------+-------+\n",
      "|              value|   user|\n",
      "+-------------------+-------+\n",
      "|       1000002 1 55|1000002|\n",
      "| 1000002 1000006 33|1000002|\n",
      "|  1000002 1000007 8|1000002|\n",
      "|1000002 1000009 144|1000002|\n",
      "|1000002 1000010 314|1000002|\n",
      "+-------------------+-------+\n",
      "only showing top 5 rows\n",
      "\n"
     ]
    }
   ],
   "source": [
    "user_artist_df.show(5)"
   ]
  },
  {
   "cell_type": "code",
   "execution_count": 10,
   "id": "1600856e-e588-4bfe-be6e-2bc01fa00680",
   "metadata": {},
   "outputs": [
    {
     "name": "stderr",
     "output_type": "stream",
     "text": [
      "23/12/29 15:24:36 WARN GarbageCollectionMetrics: To enable non-built-in garbage collector(s) List(G1 Concurrent GC), users should configure it(them) to spark.eventLog.gcMetrics.youngGenerationGarbageCollectors or spark.eventLog.gcMetrics.oldGenerationGarbageCollectors\n"
     ]
    }
   ],
   "source": [
    "user_artist_df = user_artist_df.withColumn('artist',\n",
    "                                        split(raw_user_artist_data['value'], ' '). \\\n",
    "                                        getItem(1). \\\n",
    "                                        cast(IntegerType()))"
   ]
  },
  {
   "cell_type": "code",
   "execution_count": 11,
   "id": "53ff8f9e-f4b6-48ee-a659-ed18d40637d9",
   "metadata": {},
   "outputs": [
    {
     "name": "stdout",
     "output_type": "stream",
     "text": [
      "+-------------------+-------+-------+\n",
      "|              value|   user| artist|\n",
      "+-------------------+-------+-------+\n",
      "|       1000002 1 55|1000002|      1|\n",
      "| 1000002 1000006 33|1000002|1000006|\n",
      "|  1000002 1000007 8|1000002|1000007|\n",
      "|1000002 1000009 144|1000002|1000009|\n",
      "|1000002 1000010 314|1000002|1000010|\n",
      "+-------------------+-------+-------+\n",
      "only showing top 5 rows\n",
      "\n"
     ]
    }
   ],
   "source": [
    "user_artist_df.show(5)"
   ]
  },
  {
   "cell_type": "code",
   "execution_count": 12,
   "id": "619d6fa4-50cf-4e0b-abed-40554fbedea4",
   "metadata": {},
   "outputs": [
    {
     "name": "stdout",
     "output_type": "stream",
     "text": [
      "+-------+-------+-----+\n",
      "|   user| artist|count|\n",
      "+-------+-------+-----+\n",
      "|1000002|      1|   55|\n",
      "|1000002|1000006|   33|\n",
      "|1000002|1000007|    8|\n",
      "|1000002|1000009|  144|\n",
      "|1000002|1000010|  314|\n",
      "+-------+-------+-----+\n",
      "only showing top 5 rows\n",
      "\n"
     ]
    }
   ],
   "source": [
    "user_artist_df = user_artist_df.withColumn('count',\n",
    "                                        split(raw_user_artist_data['value'], ' '). \\\n",
    "                                        getItem(2). \\\n",
    "                                        cast(IntegerType())).drop('value')\n",
    "\n",
    "user_artist_df.show(5)"
   ]
  },
  {
   "cell_type": "code",
   "execution_count": 13,
   "id": "67adabca-86aa-490d-975f-ced5ef963820",
   "metadata": {},
   "outputs": [
    {
     "name": "stderr",
     "output_type": "stream",
     "text": [
      "[Stage 6:>                                                          (0 + 8) / 8]\r"
     ]
    },
    {
     "name": "stdout",
     "output_type": "stream",
     "text": [
      "+---------+---------+-----------+-----------+\n",
      "|min(user)|max(user)|min(artist)|max(artist)|\n",
      "+---------+---------+-----------+-----------+\n",
      "|       90|  2443548|          1|   10794401|\n",
      "+---------+---------+-----------+-----------+\n",
      "\n"
     ]
    },
    {
     "name": "stderr",
     "output_type": "stream",
     "text": [
      "                                                                                \r"
     ]
    }
   ],
   "source": [
    "user_artist_df.select([min(\"user\"), max(\"user\"), min(\"artist\"), \\\n",
    "                      max(\"artist\")]).show()"
   ]
  },
  {
   "cell_type": "code",
   "execution_count": 14,
   "id": "d425c6ca-9039-4da1-8d2d-041888f8b8b5",
   "metadata": {},
   "outputs": [
    {
     "name": "stdout",
     "output_type": "stream",
     "text": [
      "+--------------------+--------+\n",
      "|               value|      id|\n",
      "+--------------------+--------+\n",
      "|1134999\\t06Crazy ...| 1134999|\n",
      "|6821360\\tPang Nak...| 6821360|\n",
      "|10113088\\tTerfel,...|10113088|\n",
      "|10151459\\tThe Fla...|10151459|\n",
      "|6826647\\tBodensta...| 6826647|\n",
      "+--------------------+--------+\n",
      "only showing top 5 rows\n",
      "\n"
     ]
    }
   ],
   "source": [
    "from pyspark.sql.functions import col\n",
    "artist_by_id = raw_artist_data.withColumn('id', split(col('value'), '\\s+', 2). \\\n",
    "                                          getItem(0). \\\n",
    "                                          cast(IntegerType()))\n",
    "artist_by_id.show(5)"
   ]
  },
  {
   "cell_type": "code",
   "execution_count": 15,
   "id": "18d7a361-c013-4e4b-a29e-ded98462d7d8",
   "metadata": {},
   "outputs": [
    {
     "name": "stdout",
     "output_type": "stream",
     "text": [
      "+--------+--------------------+\n",
      "|      id|                name|\n",
      "+--------+--------------------+\n",
      "| 1134999|        06Crazy Life|\n",
      "| 6821360|        Pang Nakarin|\n",
      "|10113088|Terfel, Bartoli- ...|\n",
      "|10151459| The Flaming Sidebur|\n",
      "| 6826647|   Bodenstandig 3000|\n",
      "+--------+--------------------+\n",
      "only showing top 5 rows\n",
      "\n"
     ]
    }
   ],
   "source": [
    "artist_by_id = artist_by_id.withColumn('name', split(col('value'), '\\s+', 2). \\\n",
    "                                       getItem(1). \\\n",
    "                                       cast(StringType())).drop('value')\n",
    "artist_by_id.show(5)"
   ]
  },
  {
   "cell_type": "code",
   "execution_count": 16,
   "id": "3487e6c0-5fdd-4df3-bbcc-e20c3b28811b",
   "metadata": {},
   "outputs": [
    {
     "name": "stdout",
     "output_type": "stream",
     "text": [
      "+--------+-------+\n",
      "|  artist|  alias|\n",
      "+--------+-------+\n",
      "| 1092764|1000311|\n",
      "| 1095122|1000557|\n",
      "| 6708070|1007267|\n",
      "|10088054|1042317|\n",
      "| 1195917|1042317|\n",
      "+--------+-------+\n",
      "only showing top 5 rows\n",
      "\n"
     ]
    }
   ],
   "source": [
    "artist_alias = raw_artist_alias.withColumn('artist', split(col('value'), '\\s+'). \\\n",
    "                                            getItem(0). \\\n",
    "                                            cast(IntegerType())). \\\n",
    "                                withColumn('alias', split(col('value'), '\\s+'). \\\n",
    "                                           getItem(1). \\\n",
    "                                           cast(StringType())). \\\n",
    "                                drop('value')\n",
    "\n",
    "artist_alias.show(5)"
   ]
  },
  {
   "cell_type": "code",
   "execution_count": 17,
   "id": "f4a10976-cc8c-4e1d-88de-5a36ad1e73a3",
   "metadata": {},
   "outputs": [
    {
     "name": "stderr",
     "output_type": "stream",
     "text": [
      "                                                                                \r"
     ]
    },
    {
     "name": "stdout",
     "output_type": "stream",
     "text": [
      "+-------+--------------+\n",
      "|     id|          name|\n",
      "+-------+--------------+\n",
      "|1000311| Steve Winwood|\n",
      "|1092764|Winwood, Steve|\n",
      "+-------+--------------+\n",
      "\n"
     ]
    }
   ],
   "source": [
    "artist_by_id.filter(artist_by_id.id.isin(1092764, 1000311)).show()"
   ]
  },
  {
   "cell_type": "markdown",
   "id": "9bb92c64-6d2c-4da5-9be8-69a2388b2ba9",
   "metadata": {},
   "source": [
    "## Building a first Model"
   ]
  },
  {
   "cell_type": "code",
   "execution_count": 18,
   "id": "5cd16e93-c73d-402b-b735-1d33b6c303e7",
   "metadata": {},
   "outputs": [],
   "source": [
    "from pyspark.sql.functions import broadcast, when"
   ]
  },
  {
   "cell_type": "code",
   "execution_count": 19,
   "id": "f97668ba-74c0-4d23-9766-5fae48b113a5",
   "metadata": {},
   "outputs": [],
   "source": [
    "train_data = user_artist_df.join(broadcast(artist_alias), 'artist', how = 'left')"
   ]
  },
  {
   "cell_type": "code",
   "execution_count": 20,
   "id": "260f722e-a930-4768-9f22-8b85c6f0d619",
   "metadata": {},
   "outputs": [
    {
     "name": "stdout",
     "output_type": "stream",
     "text": [
      "+-------+-------+-----+-----+\n",
      "| artist|   user|count|alias|\n",
      "+-------+-------+-----+-----+\n",
      "|      1|1000002|   55| NULL|\n",
      "|1000006|1000002|   33| NULL|\n",
      "|1000007|1000002|    8| NULL|\n",
      "|1000009|1000002|  144| NULL|\n",
      "|1000010|1000002|  314| NULL|\n",
      "+-------+-------+-----+-----+\n",
      "only showing top 5 rows\n",
      "\n"
     ]
    }
   ],
   "source": [
    "train_data.show(5)"
   ]
  },
  {
   "cell_type": "code",
   "execution_count": 21,
   "id": "0f0f8ba8-f747-492a-81ad-ae0ed7178818",
   "metadata": {},
   "outputs": [
    {
     "name": "stdout",
     "output_type": "stream",
     "text": [
      "+-------+-------+-----+-----+\n",
      "| artist|   user|count|alias|\n",
      "+-------+-------+-----+-----+\n",
      "|      1|1000002|   55| NULL|\n",
      "|1000006|1000002|   33| NULL|\n",
      "|1000007|1000002|    8| NULL|\n",
      "|1000009|1000002|  144| NULL|\n",
      "|1000010|1000002|  314| NULL|\n",
      "+-------+-------+-----+-----+\n",
      "only showing top 5 rows\n",
      "\n"
     ]
    }
   ],
   "source": [
    "train_data = train_data.withColumn('artist', when(col('alias').isNull(), col('artist')). \\\n",
    "                                   otherwise(col('alias')))\n",
    "train_data.show(5)"
   ]
  },
  {
   "cell_type": "code",
   "execution_count": 22,
   "id": "01eea285-9235-4461-b6e0-5a5a584d0a4e",
   "metadata": {},
   "outputs": [
    {
     "name": "stdout",
     "output_type": "stream",
     "text": [
      "+-------+-------+-----+\n",
      "| artist|   user|count|\n",
      "+-------+-------+-----+\n",
      "|      1|1000002|   55|\n",
      "|1000006|1000002|   33|\n",
      "|1000007|1000002|    8|\n",
      "|1000009|1000002|  144|\n",
      "|1000010|1000002|  314|\n",
      "+-------+-------+-----+\n",
      "only showing top 5 rows\n",
      "\n"
     ]
    }
   ],
   "source": [
    "train_data = train_data.withColumn('artist', col('artist'). \\\n",
    "                                   cast(IntegerType())).drop('alias')\n",
    "\n",
    "train_data.show(5)"
   ]
  },
  {
   "cell_type": "code",
   "execution_count": 23,
   "id": "e2412816-36d5-4b06-8ad8-5d4987aed89f",
   "metadata": {},
   "outputs": [
    {
     "name": "stderr",
     "output_type": "stream",
     "text": [
      "[Stage 22:===========================================>              (6 + 2) / 8]\r"
     ]
    },
    {
     "name": "stdout",
     "output_type": "stream",
     "text": [
      "+-------+-------+-----+\n",
      "| artist|   user|count|\n",
      "+-------+-------+-----+\n",
      "|      1|1000002|   55|\n",
      "|1000006|1000002|   33|\n",
      "|1000007|1000002|    8|\n",
      "|1000009|1000002|  144|\n",
      "|1000010|1000002|  314|\n",
      "+-------+-------+-----+\n",
      "only showing top 5 rows\n",
      "\n"
     ]
    },
    {
     "name": "stderr",
     "output_type": "stream",
     "text": [
      "                                                                                \r"
     ]
    }
   ],
   "source": [
    "train_data.cache()\n",
    "train_data.show(5)"
   ]
  },
  {
   "cell_type": "code",
   "execution_count": 24,
   "id": "e4771e66-f361-45c6-8bec-d4ba25752315",
   "metadata": {},
   "outputs": [
    {
     "data": {
      "text/plain": [
       "24296858"
      ]
     },
     "execution_count": 24,
     "metadata": {},
     "output_type": "execute_result"
    }
   ],
   "source": [
    "train_data.count()"
   ]
  },
  {
   "cell_type": "code",
   "execution_count": 25,
   "id": "a889a9bf-cefd-48e4-910f-d3f5beaac8a7",
   "metadata": {},
   "outputs": [
    {
     "data": {
      "text/plain": [
       "3"
      ]
     },
     "execution_count": 25,
     "metadata": {},
     "output_type": "execute_result"
    }
   ],
   "source": [
    "len(train_data.columns)"
   ]
  },
  {
   "cell_type": "code",
   "execution_count": 26,
   "id": "181bcbce-b1f8-45f3-abaf-aa057920d8a6",
   "metadata": {},
   "outputs": [],
   "source": [
    "train_copy = train_data"
   ]
  },
  {
   "cell_type": "code",
   "execution_count": 29,
   "id": "d641cc6c-6741-4af8-88cb-64aab9a7de2f",
   "metadata": {},
   "outputs": [],
   "source": [
    "train_data_ = train_copy.where(train_copy['artist'] < 100)"
   ]
  },
  {
   "cell_type": "code",
   "execution_count": 30,
   "id": "a014ae06-5ff3-48ed-8924-7328c398b770",
   "metadata": {},
   "outputs": [
    {
     "data": {
      "text/plain": [
       "301713"
      ]
     },
     "execution_count": 30,
     "metadata": {},
     "output_type": "execute_result"
    }
   ],
   "source": [
    "train_data_.count()"
   ]
  },
  {
   "cell_type": "code",
   "execution_count": 31,
   "id": "3ea4f8b0-5b35-4ca8-863a-ebc2ec84c58d",
   "metadata": {},
   "outputs": [
    {
     "name": "stderr",
     "output_type": "stream",
     "text": [
      "23/12/29 15:25:51 WARN InstanceBuilder: Failed to load implementation from:dev.ludovic.netlib.blas.JNIBLAS\n",
      "23/12/29 15:25:51 WARN InstanceBuilder: Failed to load implementation from:dev.ludovic.netlib.blas.VectorBLAS\n",
      "23/12/29 15:25:52 WARN InstanceBuilder: Failed to load implementation from:dev.ludovic.netlib.lapack.JNILAPACK\n",
      "                                                                                \r"
     ]
    }
   ],
   "source": [
    "from pyspark.ml.recommendation import ALS\n",
    "\n",
    "model = ALS(rank=10, seed=0, maxIter=5, regParam=0.1,\n",
    "            implicitPrefs=True, alpha=1.0, userCol='user',\n",
    "            itemCol='artist', ratingCol='count').fit(train_data_)"
   ]
  },
  {
   "cell_type": "code",
   "execution_count": 39,
   "id": "bc622beb-b529-4b65-9578-6698979307c2",
   "metadata": {},
   "outputs": [
    {
     "name": "stderr",
     "output_type": "stream",
     "text": [
      "                                                                                \r"
     ]
    }
   ],
   "source": [
    "#import pickle\n",
    "#with open(\"/Users/quangtn/Desktop/01_work/01_job/02_ml/PySpark/chapter3/model.pkl\", \"wb\") as file:\n",
    "#    pickle.dump(model, file)\n",
    "model.save(\"/Users/quangtn/Desktop/01_work/01_job/02_ml/PySpark/chapter3/model.h5\")"
   ]
  },
  {
   "cell_type": "code",
   "execution_count": 79,
   "id": "149a99aa-d972-45bd-a817-993f8b9d8730",
   "metadata": {},
   "outputs": [],
   "source": [
    "user_id = 2093760\n",
    "\n",
    "existing_artist_ids = train_data.filter(train_data_.user==user_id).select(\"artist\").collect()"
   ]
  },
  {
   "cell_type": "code",
   "execution_count": 80,
   "id": "9d68d063-8f3e-4ff2-8841-4c9931d2e277",
   "metadata": {},
   "outputs": [],
   "source": [
    "existing_artist_ids = [i[0] for i in existing_artist_ids]"
   ]
  },
  {
   "cell_type": "code",
   "execution_count": 81,
   "id": "c5050726-b0eb-42d1-8a6b-925991c897a0",
   "metadata": {},
   "outputs": [
    {
     "name": "stdout",
     "output_type": "stream",
     "text": [
      "+-------+---------------+\n",
      "|     id|           name|\n",
      "+-------+---------------+\n",
      "|   1180|     David Gray|\n",
      "|    378|  Blackalicious|\n",
      "|    813|     Jurassic 5|\n",
      "|1255340|The Saw Doctors|\n",
      "|    942|         Xzibit|\n",
      "+-------+---------------+\n",
      "\n"
     ]
    }
   ],
   "source": [
    "artist_by_id.filter(col('id').isin(existing_artist_ids)).show()"
   ]
  },
  {
   "cell_type": "code",
   "execution_count": 82,
   "id": "1dbee6ca-e35d-40c6-8ad6-18aa9ca56785",
   "metadata": {},
   "outputs": [],
   "source": [
    "user_subset = train_data.select('user').where(col('user')==user_id).distinct()"
   ]
  },
  {
   "cell_type": "code",
   "execution_count": 83,
   "id": "5a15a19f-10ed-42dd-9750-897f30d95995",
   "metadata": {},
   "outputs": [
    {
     "name": "stdout",
     "output_type": "stream",
     "text": [
      "+-------+\n",
      "|   user|\n",
      "+-------+\n",
      "|2093760|\n",
      "+-------+\n",
      "\n"
     ]
    }
   ],
   "source": [
    "user_subset.show(5)"
   ]
  },
  {
   "cell_type": "code",
   "execution_count": 84,
   "id": "cdfaef41-10ef-41a6-9a89-20dea0d555b2",
   "metadata": {},
   "outputs": [],
   "source": [
    "top_predictions = model.recommendForUserSubset(user_subset, 5)"
   ]
  },
  {
   "cell_type": "code",
   "execution_count": 85,
   "id": "4f6723c0-473a-46a0-afc4-a5235511f65e",
   "metadata": {},
   "outputs": [
    {
     "name": "stdout",
     "output_type": "stream",
     "text": [
      "+----+---------------+\n",
      "|user|recommendations|\n",
      "+----+---------------+\n",
      "+----+---------------+\n",
      "\n"
     ]
    }
   ],
   "source": [
    "top_predictions.show(5)"
   ]
  },
  {
   "cell_type": "code",
   "execution_count": 86,
   "id": "510b590c-11d2-4d46-a1c4-96b34d823b03",
   "metadata": {},
   "outputs": [],
   "source": [
    "top_predictions_pandas = top_predictions.toPandas()"
   ]
  },
  {
   "cell_type": "markdown",
   "id": "bc6ea4cf-cf95-41b6-8548-e3626c694831",
   "metadata": {},
   "source": [
    "## Evaluating Recommendation quality"
   ]
  },
  {
   "cell_type": "code",
   "execution_count": 131,
   "id": "ef9340d9-63bc-4a38-8c04-64633063c150",
   "metadata": {},
   "outputs": [],
   "source": [
    "import random\n",
    "from pyspark.sql.functions import col, lit, count, mean, coalesce\n",
    "\n",
    "\n",
    "def area_under_curve(positive_data, b_all_artist_ids, predict_function) -> float:\n",
    "    positive_predictions = predict_function(positive_data.select(\"user\", \"artist\")).withColumnRenamed(\"prediction\", \"positivePrediction\")\n",
    "\n",
    "    def negative_data_generation(user_artist_tuples):\n",
    "        user_negative_artists = []\n",
    "        for user, pos_artist_ids in user_artist_tuples:\n",
    "            pos_artist_id_set = set(pos_artist_ids)\n",
    "            negative_artists = set()\n",
    "            while len(negative_artists) < len(pos_artist_id_set):\n",
    "                artist_id = b_all_artist_ids[random.randint(0, len(b_all_artist_ids) - 1)]\n",
    "                if artist_id not in  pos_artist_id_set:\n",
    "                    negative_artists.add(artist_id)\n",
    "            user_negative_artists.extend([(user, artist_id) for artist_id in negative_artists])\n",
    "        return user_negative_artists\n",
    "\n",
    "    user_artist_rdd = positive_data.select(\"user\", \"artist\").rdd.groupByKey().mapValues(list).collect()\n",
    "    negative_data = spark.createDataFrame(negative_data_generation(user_artist_rdd), schema=[\"user\", \"artist\"])\n",
    "\n",
    "    negative_predictions = predict_function(negative_data).withColumnRenamed(\"prediction\", \"negativePrediction\")\n",
    "\n",
    "    joined_predictions = positive_predictions.join(negative_predictions, \"user\").select(\"user\", \"positivePrediction\", \"negativePrediction\").cache()\n",
    "\n",
    "    all_counts = joined_predictions.groupBy(\"user\").agg(count(lit(1)).alias(\"total\")).select(\"user\", \"total\")\n",
    "    correct_counts = joined_predictions.filter(col(\"positivePrediction\") > col(\"negativePrediction\")).groupby(\"user\").agg(count(\"user\").alias(\"correct\")).select(\"user\", \"correct\")\n",
    "\n",
    "    mean_auc = all_counts.join(correct_counts, [\"user\"], \"left_outer\").select(col(\"user\"), (coalesce(col(\"correct\"), lit(0)) / col(\"total\")).alias(\"auc\")).agg(mean(\"auc\")).collect()[0][0]\n",
    "    \n",
    "    joined_predictions.unpersist()\n",
    "    return mean_auc"
   ]
  },
  {
   "cell_type": "code",
   "execution_count": 96,
   "id": "a9d1eb74-0cd7-4d6e-a11f-ed3f3febce80",
   "metadata": {},
   "outputs": [],
   "source": [
    "all_data = user_artist_df.join(broadcast(artist_alias), 'artist', how='left') \\\n",
    "                        .withColumn('artist', when(col('alias').isNull(), col('artist')) \\\n",
    "                        .otherwise(col('alias'))) \\\n",
    "                        .withColumn('artist', col('artist').cast(IntegerType())).drop('alias')"
   ]
  },
  {
   "cell_type": "code",
   "execution_count": 97,
   "id": "22a448e0-0b0b-4b5d-8e32-61aef61b6665",
   "metadata": {},
   "outputs": [
    {
     "name": "stderr",
     "output_type": "stream",
     "text": [
      "                                                                                \r"
     ]
    },
    {
     "data": {
      "text/plain": [
       "24296858"
      ]
     },
     "execution_count": 97,
     "metadata": {},
     "output_type": "execute_result"
    }
   ],
   "source": [
    "all_data.count()"
   ]
  },
  {
   "cell_type": "code",
   "execution_count": 98,
   "id": "f876a7b0-81bb-42a5-adec-fb8233920272",
   "metadata": {},
   "outputs": [],
   "source": [
    "copy_data = all_data"
   ]
  },
  {
   "cell_type": "code",
   "execution_count": 99,
   "id": "86a977a8-2357-4492-ac73-8a38dd8b2e7e",
   "metadata": {},
   "outputs": [
    {
     "name": "stdout",
     "output_type": "stream",
     "text": [
      "+-------+-------+-----+\n",
      "| artist|   user|count|\n",
      "+-------+-------+-----+\n",
      "|      1|1000002|   55|\n",
      "|1000006|1000002|   33|\n",
      "|1000007|1000002|    8|\n",
      "|1000009|1000002|  144|\n",
      "|1000010|1000002|  314|\n",
      "+-------+-------+-----+\n",
      "only showing top 5 rows\n",
      "\n"
     ]
    }
   ],
   "source": [
    "all_data.show(5)"
   ]
  },
  {
   "cell_type": "code",
   "execution_count": 102,
   "id": "9abf22ac-4550-4b96-98e7-6cbca15a5f6b",
   "metadata": {},
   "outputs": [
    {
     "data": {
      "text/plain": [
       "1026625"
      ]
     },
     "execution_count": 102,
     "metadata": {},
     "output_type": "execute_result"
    }
   ],
   "source": [
    "all_data_ = all_data.where(all_data.artist < 500)\n",
    "all_data_.count()"
   ]
  },
  {
   "cell_type": "code",
   "execution_count": 103,
   "id": "9911670e-e7d8-44a4-b1ef-9420e3b5d42b",
   "metadata": {},
   "outputs": [
    {
     "data": {
      "text/plain": [
       "DataFrame[artist: int, user: int, count: int]"
      ]
     },
     "execution_count": 103,
     "metadata": {},
     "output_type": "execute_result"
    }
   ],
   "source": [
    "train_data, cv_data = all_data_.randomSplit([0.9, 0.1], seed=54321)\n",
    "train_data.cache()\n",
    "cv_data.cache()"
   ]
  },
  {
   "cell_type": "code",
   "execution_count": 104,
   "id": "074544dd-b75b-45fc-9629-e24bb741e7f7",
   "metadata": {},
   "outputs": [],
   "source": [
    "all_artist_ids = all_data_.select(\"artist\").distinct()"
   ]
  },
  {
   "cell_type": "code",
   "execution_count": 105,
   "id": "b98260a4-e87c-40ac-92dd-063424228eb5",
   "metadata": {},
   "outputs": [],
   "source": [
    "all_artist_ids = [i[0] for i in all_artist_ids.collect()]"
   ]
  },
  {
   "cell_type": "code",
   "execution_count": 107,
   "id": "3df1ecda-1313-4658-92f6-36f65d4234f6",
   "metadata": {},
   "outputs": [
    {
     "data": {
      "text/plain": [
       "360"
      ]
     },
     "execution_count": 107,
     "metadata": {},
     "output_type": "execute_result"
    }
   ],
   "source": [
    "len(all_artist_ids)"
   ]
  },
  {
   "cell_type": "code",
   "execution_count": 108,
   "id": "4a676e4f-d626-4e5d-9e3e-6dd6baba2002",
   "metadata": {},
   "outputs": [
    {
     "name": "stderr",
     "output_type": "stream",
     "text": [
      "                                                                                \r"
     ]
    }
   ],
   "source": [
    "model = ALS(rank=10, seed=0, maxIter=5, regParam=0.1,\n",
    "            implicitPrefs=True, alpha=1.0, userCol='user',\n",
    "            itemCol=\"artist\", ratingCol=\"count\").fit(train_data)"
   ]
  },
  {
   "cell_type": "code",
   "execution_count": 109,
   "id": "e782e709-d620-4ce3-b3c1-1b5f7e572e48",
   "metadata": {},
   "outputs": [
    {
     "name": "stderr",
     "output_type": "stream",
     "text": [
      "                                                                                \r"
     ]
    }
   ],
   "source": [
    "model.save(\"/Users/quangtn/Desktop/01_work/01_job/02_ml/PySpark/chapter3/model2train.h5\")"
   ]
  },
  {
   "cell_type": "code",
   "execution_count": 132,
   "id": "17f05bc8-eddb-4bd8-a4ec-f378a447328f",
   "metadata": {},
   "outputs": [
    {
     "name": "stderr",
     "output_type": "stream",
     "text": [
      "                                                                                \r"
     ]
    },
    {
     "data": {
      "text/plain": [
       "0.8286901438248726"
      ]
     },
     "execution_count": 132,
     "metadata": {},
     "output_type": "execute_result"
    }
   ],
   "source": [
    "area_under_curve(cv_data, all_artist_ids, model.transform)"
   ]
  },
  {
   "cell_type": "code",
   "execution_count": 135,
   "id": "c227866d-5e21-4178-98eb-8bb48d47b777",
   "metadata": {},
   "outputs": [],
   "source": [
    "from pyspark.sql.functions import sum as _sum\n",
    "\n",
    "def predict_most_listened(train):\n",
    "    listen_counts = train.groupBy(\"artist\").agg(_sum(\"count\").alias(\"prediction\")).select(\"artist\", \"prediction\")\n",
    "    return train.join(listen_counts, \"artist\", \"left_outer\").select(\"user\", \"artist\", \"prediction\")"
   ]
  },
  {
   "cell_type": "code",
   "execution_count": 137,
   "id": "8957b93e-9291-4a52-8dbc-63eb79ad157e",
   "metadata": {},
   "outputs": [],
   "source": [
    "area_under_curve(cv_data, all_artist_ids, predict_most_listened(train_data))"
   ]
  },
  {
   "cell_type": "markdown",
   "id": "328f7a65-5699-495a-979d-51453cb0c0a9",
   "metadata": {},
   "source": [
    "## Hyperparameter selection"
   ]
  },
  {
   "cell_type": "code",
   "execution_count": 138,
   "id": "25853456-f49b-4a71-84fc-b6ef60bd0ec7",
   "metadata": {},
   "outputs": [],
   "source": [
    "from pprint import pprint\n",
    "from itertools import product"
   ]
  },
  {
   "cell_type": "code",
   "execution_count": 140,
   "id": "9fa86c84-11eb-41b2-8ff6-f797e646af9a",
   "metadata": {},
   "outputs": [],
   "source": [
    "ranks = [5, 30]\n",
    "reg_params = [4.0, 0.0001]\n",
    "alphas = [1.0, 40.0]\n",
    "hyperparam_combinations = list(product(*[ranks, reg_params, alphas]))"
   ]
  },
  {
   "cell_type": "code",
   "execution_count": 144,
   "id": "9028937b-0520-47ac-acfb-f380f9231e9c",
   "metadata": {},
   "outputs": [
    {
     "name": "stderr",
     "output_type": "stream",
     "text": [
      "23/12/29 17:51:25 WARN BlockManager: Block rdd_5763_0 already exists on this machine; not re-adding it\n",
      "                                                                                \r"
     ]
    }
   ],
   "source": [
    "evaluations = []\n",
    "\n",
    "for c in hyperparam_combinations:\n",
    "    rank = c[0]\n",
    "    reg_param = c[1]\n",
    "    alpha = c[2]\n",
    "    model = ALS().setSeed(0).setImplicitPrefs(True).setRank(rank).setRegParam(reg_param).setAlpha(alpha).setMaxIter(20).setUserCol(\"user\").setItemCol(\"artist\").setRatingCol(\"count\").setPredictionCol(\"prediction\").fit(train_data)\n",
    "\n",
    "    auc = area_under_curve(cv_data, all_artist_ids, model.transform)\n",
    "\n",
    "    model.userFactors.unpersist()\n",
    "    model.itemFactors.unpersist()\n",
    "\n",
    "    evaluations.append((auc, (rank, reg_param, alpha)))"
   ]
  },
  {
   "cell_type": "code",
   "execution_count": 149,
   "id": "033b1f30-2468-480d-a574-91be9315194a",
   "metadata": {},
   "outputs": [
    {
     "name": "stdout",
     "output_type": "stream",
     "text": [
      "[(0.8662409297413768, (30, 4.0, 1.0)),\n",
      " (0.8646001772550876, (5, 4.0, 1.0)),\n",
      " (0.8510079003145494, (30, 4.0, 40.0)),\n",
      " (0.8415942950410648, (5, 0.0001, 1.0)),\n",
      " (0.840553188245789, (5, 4.0, 40.0)),\n",
      " (0.8042284110688335, (5, 0.0001, 40.0)),\n",
      " (0.7250629011496921, (30, 0.0001, 1.0)),\n",
      " (0.6889394822574169, (30, 0.0001, 40.0))]\n"
     ]
    }
   ],
   "source": [
    "evaluations.sort(key=lambda x: x[0], reverse=True)\n",
    "pprint(evaluations)"
   ]
  },
  {
   "cell_type": "code",
   "execution_count": 154,
   "id": "eef2f8bb-85f9-4ae7-98f6-72aa54d8f8f7",
   "metadata": {},
   "outputs": [],
   "source": [
    "some_users = all_data.select(\"user\").distinct().limit(100)\n",
    "\n",
    "def make_recommendation(model, user_id, num_recs):\n",
    "    user_subset = train_data.select('user').where(col('user') == user_id).distinct()\n",
    "    recommendations = model.recommendForUserSubset(user_subset, num_recs)\n",
    "    return recommendations\n",
    "\n",
    "some_recommendations = [(user_id[0], make_recommendation(model, user_id[0], 5)) for user_id in some_users.collect()]\n"
   ]
  },
  {
   "cell_type": "code",
   "execution_count": 161,
   "id": "fc6680c0-f0b4-432a-8bf1-548a154954c5",
   "metadata": {},
   "outputs": [
    {
     "name": "stdout",
     "output_type": "stream",
     "text": [
      "1000190 -> 82, 441, 452, 15, 316\n"
     ]
    },
    {
     "name": "stderr",
     "output_type": "stream",
     "text": [
      "                                                                                \r"
     ]
    },
    {
     "name": "stdout",
     "output_type": "stream",
     "text": [
      "1001043 -> 59, 15, 2, 275, 62\n",
      "1001129 -> 435, 250, 181, 434, 18\n"
     ]
    },
    {
     "name": "stderr",
     "output_type": "stream",
     "text": [
      "                                                                                \r"
     ]
    },
    {
     "name": "stdout",
     "output_type": "stream",
     "text": [
      "1001139 -> 100, 228, 281, 421, 75\n",
      "1002431 -> 82, 30, 377, 15, 181\n"
     ]
    },
    {
     "name": "stderr",
     "output_type": "stream",
     "text": [
      "                                                                                \r"
     ]
    },
    {
     "name": "stdout",
     "output_type": "stream",
     "text": [
      "1002605 -> 15, 313, 407, 189, 242\n",
      "1004666 -> 18, 425, 360, 4, 217\n"
     ]
    },
    {
     "name": "stderr",
     "output_type": "stream",
     "text": [
      "                                                                                \r"
     ]
    },
    {
     "name": "stdout",
     "output_type": "stream",
     "text": [
      "1005158 -> 30, 33, 405, 181, 137\n",
      "1005439 -> 275, 189, 304, 253, 407\n"
     ]
    },
    {
     "name": "stderr",
     "output_type": "stream",
     "text": [
      "                                                                                \r"
     ]
    },
    {
     "name": "stdout",
     "output_type": "stream",
     "text": [
      "1005697 -> 393, 250, 49, 420, 300\n",
      "1005853 -> 234, 425, 393, 478, 83\n"
     ]
    },
    {
     "name": "stderr",
     "output_type": "stream",
     "text": [
      "                                                                                \r"
     ]
    },
    {
     "name": "stdout",
     "output_type": "stream",
     "text": [
      "1007007 -> 78, 82, 122, 316, 463\n"
     ]
    },
    {
     "ename": "IndexError",
     "evalue": "list index out of range",
     "output_type": "error",
     "traceback": [
      "\u001b[0;31m---------------------------------------------------------------------------\u001b[0m",
      "\u001b[0;31mIndexError\u001b[0m                                Traceback (most recent call last)",
      "Cell \u001b[0;32mIn[161], line 3\u001b[0m\n\u001b[1;32m      1\u001b[0m \u001b[38;5;28;01mfor\u001b[39;00m user_id, recs_df \u001b[38;5;129;01min\u001b[39;00m some_recommendations:\n\u001b[1;32m      2\u001b[0m     recs_df \u001b[38;5;241m=\u001b[39m recs_df\u001b[38;5;241m.\u001b[39mselect(\u001b[38;5;124m\"\u001b[39m\u001b[38;5;124mrecommendations\u001b[39m\u001b[38;5;124m\"\u001b[39m)\n\u001b[0;32m----> 3\u001b[0m     recommedend_artists \u001b[38;5;241m=\u001b[39m [row\u001b[38;5;241m.\u001b[39masDict()[\u001b[38;5;124m\"\u001b[39m\u001b[38;5;124martist\u001b[39m\u001b[38;5;124m\"\u001b[39m] \u001b[38;5;28;01mfor\u001b[39;00m row \u001b[38;5;129;01min\u001b[39;00m \u001b[43mrecs_df\u001b[49m\u001b[38;5;241;43m.\u001b[39;49m\u001b[43mcollect\u001b[49m\u001b[43m(\u001b[49m\u001b[43m)\u001b[49m\u001b[43m[\u001b[49m\u001b[38;5;241;43m0\u001b[39;49m\u001b[43m]\u001b[49m[\u001b[38;5;241m0\u001b[39m]]\n\u001b[1;32m      4\u001b[0m     \u001b[38;5;28mprint\u001b[39m(\u001b[38;5;124mf\u001b[39m\u001b[38;5;124m\"\u001b[39m\u001b[38;5;132;01m{\u001b[39;00muser_id\u001b[38;5;132;01m}\u001b[39;00m\u001b[38;5;124m -> \u001b[39m\u001b[38;5;132;01m{\u001b[39;00m\u001b[38;5;124m'\u001b[39m\u001b[38;5;124m, \u001b[39m\u001b[38;5;124m'\u001b[39m\u001b[38;5;241m.\u001b[39mjoin(\u001b[38;5;28mmap\u001b[39m(\u001b[38;5;28mstr\u001b[39m,\u001b[38;5;250m \u001b[39mrecommedend_artists))\u001b[38;5;132;01m}\u001b[39;00m\u001b[38;5;124m\"\u001b[39m)\n",
      "\u001b[0;31mIndexError\u001b[0m: list index out of range"
     ]
    }
   ],
   "source": [
    "for user_id, recs_df in some_recommendations:\n",
    "    recs_df = recs_df.select(\"recommendations\")\n",
    "    recommedend_artists = [row.asDict()[\"artist\"] for row in recs_df.collect()[0][0]]\n",
    "    print(f\"{user_id} -> {', '.join(map(str, recommedend_artists))}\")"
   ]
  },
  {
   "cell_type": "code",
   "execution_count": null,
   "id": "90eaadff-0242-47e2-859a-ecf158008797",
   "metadata": {},
   "outputs": [],
   "source": [
    "recommended_artists = [row.asDict()[\"artist\"] for row in recs_df.collect()[0][0]]\n"
   ]
  }
 ],
 "metadata": {
  "kernelspec": {
   "display_name": "Python 3 (ipykernel)",
   "language": "python",
   "name": "python3"
  },
  "language_info": {
   "codemirror_mode": {
    "name": "ipython",
    "version": 3
   },
   "file_extension": ".py",
   "mimetype": "text/x-python",
   "name": "python",
   "nbconvert_exporter": "python",
   "pygments_lexer": "ipython3",
   "version": "3.8.18"
  }
 },
 "nbformat": 4,
 "nbformat_minor": 5
}
