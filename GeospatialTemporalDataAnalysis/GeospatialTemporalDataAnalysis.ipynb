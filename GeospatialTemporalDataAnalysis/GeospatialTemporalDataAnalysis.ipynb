{
 "cells": [
  {
   "cell_type": "code",
   "execution_count": 1,
   "id": "f9d9445b-8202-4e22-905f-766ebf6c9ee1",
   "metadata": {},
   "outputs": [],
   "source": [
    "import pyspark\n",
    "from pyspark.sql import SparkSession"
   ]
  },
  {
   "cell_type": "code",
   "execution_count": 2,
   "id": "5cd44148-a9fe-4ede-bb04-00f8f1802205",
   "metadata": {},
   "outputs": [
    {
     "name": "stderr",
     "output_type": "stream",
     "text": [
      "24/01/02 13:48:00 WARN Utils: Your hostname, quangtn933.local resolves to a loopback address: 127.0.0.1; using 192.168.1.90 instead (on interface en0)\n",
      "24/01/02 13:48:00 WARN Utils: Set SPARK_LOCAL_IP if you need to bind to another address\n",
      "Setting default log level to \"WARN\".\n",
      "To adjust logging level use sc.setLogLevel(newLevel). For SparkR, use setLogLevel(newLevel).\n",
      "24/01/02 13:48:00 WARN NativeCodeLoader: Unable to load native-hadoop library for your platform... using builtin-java classes where applicable\n",
      "24/01/02 13:48:18 WARN GarbageCollectionMetrics: To enable non-built-in garbage collector(s) List(G1 Concurrent GC), users should configure it(them) to spark.eventLog.gcMetrics.youngGenerationGarbageCollectors or spark.eventLog.gcMetrics.oldGenerationGarbageCollectors\n"
     ]
    }
   ],
   "source": [
    "spark = SparkSession.builder.config(\"spark.driver.memory\", \"8g\").appName(\"chapter7\").getOrCreate()"
   ]
  },
  {
   "cell_type": "markdown",
   "id": "7e5c5fad-63fa-4373-a5f6-97cd49bd6b0d",
   "metadata": {},
   "source": [
    "## Getting data"
   ]
  },
  {
   "cell_type": "code",
   "execution_count": 3,
   "id": "92b96bf7-41e8-4202-bd6c-2e737c59b203",
   "metadata": {},
   "outputs": [
    {
     "name": "stdout",
     "output_type": "stream",
     "text": [
      "-RECORD 0----------------------------------\n",
      " medallion          | 89D227B655E5C82AE... \n",
      " hack_license       | BA96DE419E711691B... \n",
      " vendor_id          | CMT                  \n",
      " rate_code          | 1                    \n",
      " store_and_fwd_flag | N                    \n",
      " pickup_datetime    | 2013-01-01 15:11:48  \n",
      " dropoff_datetime   | 2013-01-01 15:18:10  \n",
      " passenger_count    | 4                    \n",
      " trip_time_in_secs  | 382                  \n",
      " trip_distance      | 1.00                 \n",
      " pickup_longitude   | -73.978165           \n",
      " pickup_latitude    | 40.757977            \n",
      " dropoff_longitude  | -73.989838           \n",
      " dropoff_latitude   | 40.751171            \n",
      "only showing top 1 row\n",
      "\n"
     ]
    }
   ],
   "source": [
    "taxi_raw = spark.read.option(\"header\",\"true\").csv(\"taxidata\")\n",
    "taxi_raw.show(1, vertical=True)"
   ]
  },
  {
   "cell_type": "code",
   "execution_count": 4,
   "id": "ecfa3310-7eab-4f84-9acd-4e2376d5fa66",
   "metadata": {},
   "outputs": [
    {
     "name": "stdout",
     "output_type": "stream",
     "text": [
      "root\n",
      " |-- medallion: string (nullable = true)\n",
      " |-- hack_license: string (nullable = true)\n",
      " |-- vendor_id: string (nullable = true)\n",
      " |-- rate_code: string (nullable = true)\n",
      " |-- store_and_fwd_flag: string (nullable = true)\n",
      " |-- pickup_datetime: string (nullable = true)\n",
      " |-- dropoff_datetime: string (nullable = true)\n",
      " |-- passenger_count: string (nullable = true)\n",
      " |-- trip_time_in_secs: string (nullable = true)\n",
      " |-- trip_distance: string (nullable = true)\n",
      " |-- pickup_longitude: string (nullable = true)\n",
      " |-- pickup_latitude: string (nullable = true)\n",
      " |-- dropoff_longitude: string (nullable = true)\n",
      " |-- dropoff_latitude: string (nullable = true)\n",
      "\n"
     ]
    }
   ],
   "source": [
    "taxi_raw.printSchema()"
   ]
  },
  {
   "cell_type": "code",
   "execution_count": 5,
   "id": "1ca9bb5d-c67f-428c-981b-7a05925457a3",
   "metadata": {},
   "outputs": [],
   "source": [
    "from pyspark.sql import functions as fun"
   ]
  },
  {
   "cell_type": "code",
   "execution_count": 7,
   "id": "69ddd07f-5ae3-4720-a70b-5071730ebf01",
   "metadata": {},
   "outputs": [],
   "source": [
    "taxi_raw = taxi_raw.withColumn('pickup_datetime', fun.to_timestamp(fun.col('pickup_datetime'), \"yyyy-MM-dd HH:mm:ss\"))"
   ]
  },
  {
   "cell_type": "code",
   "execution_count": 8,
   "id": "fa900543-94c5-44db-bb68-0f69fb793aa6",
   "metadata": {},
   "outputs": [
    {
     "data": {
      "text/plain": [
       "DataFrame[medallion: string, hack_license: string, vendor_id: string, rate_code: string, store_and_fwd_flag: string, pickup_datetime: timestamp, dropoff_datetime: string, passenger_count: string, trip_time_in_secs: string, trip_distance: string, pickup_longitude: string, pickup_latitude: string, dropoff_longitude: string, dropoff_latitude: string]"
      ]
     },
     "execution_count": 8,
     "metadata": {},
     "output_type": "execute_result"
    }
   ],
   "source": [
    "taxi_raw"
   ]
  },
  {
   "cell_type": "code",
   "execution_count": 9,
   "id": "17b2d7b6-c0b2-4fac-a9e9-7bb7f7ee5c21",
   "metadata": {},
   "outputs": [],
   "source": [
    "taxi_raw = taxi_raw.withColumn('dropoff_datetime', fun.to_timestamp(fun.col('dropoff_datetime'), \"yyyy-MM-dd HH:mm:ss\"))"
   ]
  },
  {
   "cell_type": "code",
   "execution_count": 10,
   "id": "0f0e8b26-9a62-4eba-bef5-fad1c0747a8c",
   "metadata": {},
   "outputs": [
    {
     "name": "stdout",
     "output_type": "stream",
     "text": [
      "root\n",
      " |-- medallion: string (nullable = true)\n",
      " |-- hack_license: string (nullable = true)\n",
      " |-- vendor_id: string (nullable = true)\n",
      " |-- rate_code: string (nullable = true)\n",
      " |-- store_and_fwd_flag: string (nullable = true)\n",
      " |-- pickup_datetime: timestamp (nullable = true)\n",
      " |-- dropoff_datetime: timestamp (nullable = true)\n",
      " |-- passenger_count: string (nullable = true)\n",
      " |-- trip_time_in_secs: string (nullable = true)\n",
      " |-- trip_distance: string (nullable = true)\n",
      " |-- pickup_longitude: string (nullable = true)\n",
      " |-- pickup_latitude: string (nullable = true)\n",
      " |-- dropoff_longitude: string (nullable = true)\n",
      " |-- dropoff_latitude: string (nullable = true)\n",
      "\n"
     ]
    }
   ],
   "source": [
    "taxi_raw.printSchema()"
   ]
  },
  {
   "cell_type": "code",
   "execution_count": 11,
   "id": "2515426f-dba6-43d5-a504-a1c2ce57ce21",
   "metadata": {},
   "outputs": [
    {
     "name": "stderr",
     "output_type": "stream",
     "text": [
      "24/01/02 13:56:39 WARN CSVHeaderChecker: Number of column in CSV header is not equal to number of fields in the schema:\n",
      " Header length: 1, schema size: 14\n",
      "CSV file: file:///Users/quangtn/Desktop/01_work/01_job/02_ml/PySpark/taxidata/trip_data_1.csv.zip\n",
      "                                                                                \r"
     ]
    },
    {
     "name": "stdout",
     "output_type": "stream",
     "text": [
      "-RECORD 0----------------------------------\n",
      " medallion          | E3F00BB3F4E710383... \n",
      " hack_license       | 10A2B96DE39865918... \n",
      " vendor_id          | CMT                  \n",
      " rate_code          | 1                    \n",
      " store_and_fwd_flag | N                    \n",
      " pickup_datetime    | 2013-01-31 23:59:59  \n",
      " dropoff_datetime   | 2013-02-01 00:05:16  \n",
      " passenger_count    | 1                    \n",
      " trip_time_in_secs  | 317                  \n",
      " trip_distance      | 1.00                 \n",
      " pickup_longitude   | -73.990685           \n",
      " pickup_latitude    | 40.719158            \n",
      " dropoff_longitude  | -74.003288           \n",
      " dropoff_latitude   | 40.71521             \n",
      "-RECORD 1----------------------------------\n",
      " medallion          | EA00A64CBDB68C77D... \n",
      " hack_license       | 2045C77002FA0F2E0... \n",
      " vendor_id          | CMT                  \n",
      " rate_code          | 1                    \n",
      " store_and_fwd_flag | N                    \n",
      " pickup_datetime    | 2013-01-31 23:59:59  \n",
      " dropoff_datetime   | 2013-02-01 00:08:39  \n",
      " passenger_count    | 1                    \n",
      " trip_time_in_secs  | 520                  \n",
      " trip_distance      | 1.50                 \n",
      " pickup_longitude   | -73.970528           \n",
      " pickup_latitude    | 40.75502             \n",
      " dropoff_longitude  | -73.981201           \n",
      " dropoff_latitude   | 40.769104            \n",
      "-RECORD 2----------------------------------\n",
      " medallion          | 83D8E776A05EEF731... \n",
      " hack_license       | E6D27C8729EF55D20... \n",
      " vendor_id          | CMT                  \n",
      " rate_code          | 1                    \n",
      " store_and_fwd_flag | N                    \n",
      " pickup_datetime    | 2013-01-31 23:59:58  \n",
      " dropoff_datetime   | 2013-02-01 00:04:19  \n",
      " passenger_count    | 1                    \n",
      " trip_time_in_secs  | 260                  \n",
      " trip_distance      | .80                  \n",
      " pickup_longitude   | -73.982452           \n",
      " pickup_latitude    | 40.77277             \n",
      " dropoff_longitude  | -73.989227           \n",
      " dropoff_latitude   | 40.766754            \n",
      "only showing top 3 rows\n",
      "\n"
     ]
    }
   ],
   "source": [
    "taxi_raw.sort(fun.col(\"pickup_datetime\").desc()).show(3, vertical=True)"
   ]
  },
  {
   "cell_type": "code",
   "execution_count": 12,
   "id": "4d3df885-febc-4315-bf4b-c0216715d20a",
   "metadata": {},
   "outputs": [],
   "source": [
    "geospatial_temporal_colnames = [\"pickup_longitude\", \"pickup_latitude\", \"dropoff_longitude\",\n",
    "                                \"dropoff_latitude\", \"pickup_datetime\", \"dropoff_datetime\"]"
   ]
  },
  {
   "cell_type": "code",
   "execution_count": 13,
   "id": "bb8dacc9-bbd5-4f6b-8826-9a5fb363e3f1",
   "metadata": {},
   "outputs": [
    {
     "name": "stderr",
     "output_type": "stream",
     "text": [
      "24/01/02 14:02:50 WARN CSVHeaderChecker: CSV header does not conform to the schema.\n",
      " Header: , , , , , \n",
      " Schema: pickup_datetime, dropoff_datetime, pickup_longitude, pickup_latitude, dropoff_longitude, dropoff_latitude\n",
      "Expected: pickup_datetime but found: \n",
      "CSV file: file:///Users/quangtn/Desktop/01_work/01_job/02_ml/PySpark/taxidata/trip_data_1.csv.zip\n",
      "[Stage 3:======================================================>  (25 + 1) / 26]\r"
     ]
    },
    {
     "name": "stdout",
     "output_type": "stream",
     "text": [
      "+----------------+---------------+-----------------+----------------+---------------+----------------+\n",
      "|pickup_longitude|pickup_latitude|dropoff_longitude|dropoff_latitude|pickup_datetime|dropoff_datetime|\n",
      "+----------------+---------------+-----------------+----------------+---------------+----------------+\n",
      "|         7651368|        7651408|          7651502|         7651507|        7651423|         7651423|\n",
      "+----------------+---------------+-----------------+----------------+---------------+----------------+\n",
      "\n"
     ]
    },
    {
     "name": "stderr",
     "output_type": "stream",
     "text": [
      "                                                                                \r"
     ]
    }
   ],
   "source": [
    "taxi_raw.select([fun.count(fun.when(fun.isnull(c), c)).alias(c) for c in geospatial_temporal_colnames]).show()"
   ]
  },
  {
   "cell_type": "code",
   "execution_count": 15,
   "id": "23894a83-a7d1-41bc-bfc3-da96a7146aed",
   "metadata": {},
   "outputs": [],
   "source": [
    "taxi_raw = taxi_raw.na.drop(subset=geospatial_temporal_colnames)"
   ]
  },
  {
   "cell_type": "code",
   "execution_count": 22,
   "id": "8affa509-8880-4f1c-8660-fd307e147739",
   "metadata": {},
   "outputs": [
    {
     "name": "stdout",
     "output_type": "stream",
     "text": [
      "Count of zero dropoff, pickup latitude and longitude records\n"
     ]
    },
    {
     "name": "stderr",
     "output_type": "stream",
     "text": [
      "24/01/02 14:11:02 WARN CSVHeaderChecker: CSV header does not conform to the schema.\n",
      " Header: , , , , , \n",
      " Schema: pickup_datetime, dropoff_datetime, pickup_longitude, pickup_latitude, dropoff_longitude, dropoff_latitude\n",
      "Expected: pickup_datetime but found: \n",
      "CSV file: file:///Users/quangtn/Desktop/01_work/01_job/02_ml/PySpark/taxidata/trip_data_1.csv.zip\n",
      "[Stage 6:======================================================>  (25 + 1) / 26]\r"
     ]
    },
    {
     "name": "stdout",
     "output_type": "stream",
     "text": [
      "+----------------------------------------------------------------------------------------------------------+--------+\n",
      "|((((dropoff_longitude = 0) OR (dropoff_latitude = 0)) OR (pickup_longitude = 0)) OR (pickup_latitude = 0))|   count|\n",
      "+----------------------------------------------------------------------------------------------------------+--------+\n",
      "|                                                                                                      NULL|     176|\n",
      "|                                                                                                      true|  286433|\n",
      "|                                                                                                     false|14489920|\n",
      "+----------------------------------------------------------------------------------------------------------+--------+\n",
      "\n"
     ]
    },
    {
     "name": "stderr",
     "output_type": "stream",
     "text": [
      "                                                                                \r"
     ]
    }
   ],
   "source": [
    "print(\"Count of zero dropoff, pickup latitude and longitude records\")\n",
    "taxi_raw.groupBy((fun.col(\"dropoff_longitude\") == 0) | (fun.col(\"dropoff_latitude\") == 0) |\n",
    "                (fun.col(\"pickup_longitude\") == 0) | (fun.col(\"pickup_latitude\") == 0)).count().show()"
   ]
  },
  {
   "cell_type": "markdown",
   "id": "ad90feb6-b541-481f-8471-9c18d5eb9529",
   "metadata": {},
   "source": [
    "## Analyze Geopandas"
   ]
  },
  {
   "cell_type": "code",
   "execution_count": 28,
   "id": "c5e3507a-532a-4cf3-b3ce-97531835cf36",
   "metadata": {},
   "outputs": [],
   "source": [
    "import geopandas as gdp"
   ]
  },
  {
   "cell_type": "code",
   "execution_count": 29,
   "id": "5e8b4a33-0654-4770-a1fe-9565d413bf42",
   "metadata": {},
   "outputs": [],
   "source": [
    "gdf = gdp.read_file(\"./nyc-boroughs.geojson\")"
   ]
  },
  {
   "cell_type": "code",
   "execution_count": 30,
   "id": "11e15272-5d74-42e0-9ab4-bd1dec7d93bc",
   "metadata": {},
   "outputs": [],
   "source": [
    "gdf = gdf.to_crs(3857)"
   ]
  },
  {
   "cell_type": "code",
   "execution_count": 33,
   "id": "da59a73c-d85a-47b6-a646-9fd7da357c4f",
   "metadata": {},
   "outputs": [
    {
     "data": {
      "text/html": [
       "<div>\n",
       "<style scoped>\n",
       "    .dataframe tbody tr th:only-of-type {\n",
       "        vertical-align: middle;\n",
       "    }\n",
       "\n",
       "    .dataframe tbody tr th {\n",
       "        vertical-align: top;\n",
       "    }\n",
       "\n",
       "    .dataframe thead th {\n",
       "        text-align: right;\n",
       "    }\n",
       "</style>\n",
       "<table border=\"1\" class=\"dataframe\">\n",
       "  <thead>\n",
       "    <tr style=\"text-align: right;\">\n",
       "      <th></th>\n",
       "      <th>boroughCode</th>\n",
       "      <th>borough</th>\n",
       "      <th>@id</th>\n",
       "      <th>geometry</th>\n",
       "    </tr>\n",
       "  </thead>\n",
       "  <tbody>\n",
       "    <tr>\n",
       "      <th>0</th>\n",
       "      <td>5</td>\n",
       "      <td>Staten Island</td>\n",
       "      <td>http://nyc.pediacities.com/Resource/Borough/St...</td>\n",
       "      <td>POLYGON ((-8243264.851 4948597.836, -8243206.4...</td>\n",
       "    </tr>\n",
       "    <tr>\n",
       "      <th>1</th>\n",
       "      <td>5</td>\n",
       "      <td>Staten Island</td>\n",
       "      <td>http://nyc.pediacities.com/Resource/Borough/St...</td>\n",
       "      <td>POLYGON ((-8243557.877 4950251.047, -8243660.3...</td>\n",
       "    </tr>\n",
       "    <tr>\n",
       "      <th>2</th>\n",
       "      <td>5</td>\n",
       "      <td>Staten Island</td>\n",
       "      <td>http://nyc.pediacities.com/Resource/Borough/St...</td>\n",
       "      <td>POLYGON ((-8255392.882 4959598.361, -8255451.0...</td>\n",
       "    </tr>\n",
       "    <tr>\n",
       "      <th>3</th>\n",
       "      <td>5</td>\n",
       "      <td>Staten Island</td>\n",
       "      <td>http://nyc.pediacities.com/Resource/Borough/St...</td>\n",
       "      <td>POLYGON ((-8246794.198 4960600.673, -8246706.2...</td>\n",
       "    </tr>\n",
       "    <tr>\n",
       "      <th>4</th>\n",
       "      <td>4</td>\n",
       "      <td>Queens</td>\n",
       "      <td>http://nyc.pediacities.com/Resource/Borough/Qu...</td>\n",
       "      <td>POLYGON ((-8219461.925 4952778.732, -8219464.8...</td>\n",
       "    </tr>\n",
       "  </tbody>\n",
       "</table>\n",
       "</div>"
      ],
      "text/plain": [
       "   boroughCode        borough  \\\n",
       "0            5  Staten Island   \n",
       "1            5  Staten Island   \n",
       "2            5  Staten Island   \n",
       "3            5  Staten Island   \n",
       "4            4         Queens   \n",
       "\n",
       "                                                 @id  \\\n",
       "0  http://nyc.pediacities.com/Resource/Borough/St...   \n",
       "1  http://nyc.pediacities.com/Resource/Borough/St...   \n",
       "2  http://nyc.pediacities.com/Resource/Borough/St...   \n",
       "3  http://nyc.pediacities.com/Resource/Borough/St...   \n",
       "4  http://nyc.pediacities.com/Resource/Borough/Qu...   \n",
       "\n",
       "                                            geometry  \n",
       "0  POLYGON ((-8243264.851 4948597.836, -8243206.4...  \n",
       "1  POLYGON ((-8243557.877 4950251.047, -8243660.3...  \n",
       "2  POLYGON ((-8255392.882 4959598.361, -8255451.0...  \n",
       "3  POLYGON ((-8246794.198 4960600.673, -8246706.2...  \n",
       "4  POLYGON ((-8219461.925 4952778.732, -8219464.8...  "
      ]
     },
     "execution_count": 33,
     "metadata": {},
     "output_type": "execute_result"
    }
   ],
   "source": [
    "gdf.head(5)"
   ]
  },
  {
   "cell_type": "code",
   "execution_count": 34,
   "id": "ef1844f0-d92e-4dff-8b25-92a758e04189",
   "metadata": {},
   "outputs": [],
   "source": [
    "gdf['area'] = gdf.apply(lambda x: x['geometry'].area, axis=1)"
   ]
  },
  {
   "cell_type": "code",
   "execution_count": 35,
   "id": "241d9718-ffe8-4209-bb09-85885ddf6058",
   "metadata": {},
   "outputs": [
    {
     "data": {
      "text/html": [
       "<div>\n",
       "<style scoped>\n",
       "    .dataframe tbody tr th:only-of-type {\n",
       "        vertical-align: middle;\n",
       "    }\n",
       "\n",
       "    .dataframe tbody tr th {\n",
       "        vertical-align: top;\n",
       "    }\n",
       "\n",
       "    .dataframe thead th {\n",
       "        text-align: right;\n",
       "    }\n",
       "</style>\n",
       "<table border=\"1\" class=\"dataframe\">\n",
       "  <thead>\n",
       "    <tr style=\"text-align: right;\">\n",
       "      <th></th>\n",
       "      <th>boroughCode</th>\n",
       "      <th>borough</th>\n",
       "      <th>@id</th>\n",
       "      <th>geometry</th>\n",
       "      <th>area</th>\n",
       "    </tr>\n",
       "  </thead>\n",
       "  <tbody>\n",
       "    <tr>\n",
       "      <th>0</th>\n",
       "      <td>5</td>\n",
       "      <td>Staten Island</td>\n",
       "      <td>http://nyc.pediacities.com/Resource/Borough/St...</td>\n",
       "      <td>POLYGON ((-8243264.851 4948597.836, -8243206.4...</td>\n",
       "      <td>1.997039e+04</td>\n",
       "    </tr>\n",
       "    <tr>\n",
       "      <th>1</th>\n",
       "      <td>5</td>\n",
       "      <td>Staten Island</td>\n",
       "      <td>http://nyc.pediacities.com/Resource/Borough/St...</td>\n",
       "      <td>POLYGON ((-8243557.877 4950251.047, -8243660.3...</td>\n",
       "      <td>8.180157e+04</td>\n",
       "    </tr>\n",
       "    <tr>\n",
       "      <th>2</th>\n",
       "      <td>5</td>\n",
       "      <td>Staten Island</td>\n",
       "      <td>http://nyc.pediacities.com/Resource/Borough/St...</td>\n",
       "      <td>POLYGON ((-8255392.882 4959598.361, -8255451.0...</td>\n",
       "      <td>1.248422e+05</td>\n",
       "    </tr>\n",
       "    <tr>\n",
       "      <th>3</th>\n",
       "      <td>5</td>\n",
       "      <td>Staten Island</td>\n",
       "      <td>http://nyc.pediacities.com/Resource/Borough/St...</td>\n",
       "      <td>POLYGON ((-8246794.198 4960600.673, -8246706.2...</td>\n",
       "      <td>2.616393e+08</td>\n",
       "    </tr>\n",
       "    <tr>\n",
       "      <th>4</th>\n",
       "      <td>4</td>\n",
       "      <td>Queens</td>\n",
       "      <td>http://nyc.pediacities.com/Resource/Borough/Qu...</td>\n",
       "      <td>POLYGON ((-8219461.925 4952778.732, -8219464.8...</td>\n",
       "      <td>6.478373e+05</td>\n",
       "    </tr>\n",
       "  </tbody>\n",
       "</table>\n",
       "</div>"
      ],
      "text/plain": [
       "   boroughCode        borough  \\\n",
       "0            5  Staten Island   \n",
       "1            5  Staten Island   \n",
       "2            5  Staten Island   \n",
       "3            5  Staten Island   \n",
       "4            4         Queens   \n",
       "\n",
       "                                                 @id  \\\n",
       "0  http://nyc.pediacities.com/Resource/Borough/St...   \n",
       "1  http://nyc.pediacities.com/Resource/Borough/St...   \n",
       "2  http://nyc.pediacities.com/Resource/Borough/St...   \n",
       "3  http://nyc.pediacities.com/Resource/Borough/St...   \n",
       "4  http://nyc.pediacities.com/Resource/Borough/Qu...   \n",
       "\n",
       "                                            geometry          area  \n",
       "0  POLYGON ((-8243264.851 4948597.836, -8243206.4...  1.997039e+04  \n",
       "1  POLYGON ((-8243557.877 4950251.047, -8243660.3...  8.180157e+04  \n",
       "2  POLYGON ((-8255392.882 4959598.361, -8255451.0...  1.248422e+05  \n",
       "3  POLYGON ((-8246794.198 4960600.673, -8246706.2...  2.616393e+08  \n",
       "4  POLYGON ((-8219461.925 4952778.732, -8219464.8...  6.478373e+05  "
      ]
     },
     "execution_count": 35,
     "metadata": {},
     "output_type": "execute_result"
    }
   ],
   "source": [
    "gdf.head(5)"
   ]
  },
  {
   "cell_type": "code",
   "execution_count": 36,
   "id": "b41b32fc-ab38-41bf-96e1-fa02e028c930",
   "metadata": {},
   "outputs": [],
   "source": [
    "gdf = gdf.sort_values(by=['boroughCode', 'area'], ascending=[True, False])"
   ]
  },
  {
   "cell_type": "code",
   "execution_count": 37,
   "id": "fdfc1dc1-4bc1-423f-a4bb-f072d265d403",
   "metadata": {},
   "outputs": [
    {
     "data": {
      "text/html": [
       "<div>\n",
       "<style scoped>\n",
       "    .dataframe tbody tr th:only-of-type {\n",
       "        vertical-align: middle;\n",
       "    }\n",
       "\n",
       "    .dataframe tbody tr th {\n",
       "        vertical-align: top;\n",
       "    }\n",
       "\n",
       "    .dataframe thead th {\n",
       "        text-align: right;\n",
       "    }\n",
       "</style>\n",
       "<table border=\"1\" class=\"dataframe\">\n",
       "  <thead>\n",
       "    <tr style=\"text-align: right;\">\n",
       "      <th></th>\n",
       "      <th>boroughCode</th>\n",
       "      <th>borough</th>\n",
       "      <th>@id</th>\n",
       "      <th>geometry</th>\n",
       "      <th>area</th>\n",
       "    </tr>\n",
       "  </thead>\n",
       "  <tbody>\n",
       "    <tr>\n",
       "      <th>72</th>\n",
       "      <td>1</td>\n",
       "      <td>Manhattan</td>\n",
       "      <td>http://nyc.pediacities.com/Resource/Borough/Ma...</td>\n",
       "      <td>POLYGON ((-8229449.824 4994307.583, -8229437.5...</td>\n",
       "      <td>9.588180e+07</td>\n",
       "    </tr>\n",
       "    <tr>\n",
       "      <th>71</th>\n",
       "      <td>1</td>\n",
       "      <td>Manhattan</td>\n",
       "      <td>http://nyc.pediacities.com/Resource/Borough/Ma...</td>\n",
       "      <td>POLYGON ((-8228885.652 4983011.624, -8228771.7...</td>\n",
       "      <td>3.809060e+06</td>\n",
       "    </tr>\n",
       "    <tr>\n",
       "      <th>51</th>\n",
       "      <td>1</td>\n",
       "      <td>Manhattan</td>\n",
       "      <td>http://nyc.pediacities.com/Resource/Borough/Ma...</td>\n",
       "      <td>POLYGON ((-8239506.649 4967214.563, -8239357.0...</td>\n",
       "      <td>1.242664e+06</td>\n",
       "    </tr>\n",
       "    <tr>\n",
       "      <th>69</th>\n",
       "      <td>1</td>\n",
       "      <td>Manhattan</td>\n",
       "      <td>http://nyc.pediacities.com/Resource/Borough/Ma...</td>\n",
       "      <td>POLYGON ((-8231163.561 4978335.590, -8231280.9...</td>\n",
       "      <td>1.019522e+06</td>\n",
       "    </tr>\n",
       "    <tr>\n",
       "      <th>73</th>\n",
       "      <td>1</td>\n",
       "      <td>Manhattan</td>\n",
       "      <td>http://nyc.pediacities.com/Resource/Borough/Ma...</td>\n",
       "      <td>POLYGON ((-8227250.755 4994032.424, -8227372.2...</td>\n",
       "      <td>5.352348e+05</td>\n",
       "    </tr>\n",
       "  </tbody>\n",
       "</table>\n",
       "</div>"
      ],
      "text/plain": [
       "    boroughCode    borough                                                @id  \\\n",
       "72            1  Manhattan  http://nyc.pediacities.com/Resource/Borough/Ma...   \n",
       "71            1  Manhattan  http://nyc.pediacities.com/Resource/Borough/Ma...   \n",
       "51            1  Manhattan  http://nyc.pediacities.com/Resource/Borough/Ma...   \n",
       "69            1  Manhattan  http://nyc.pediacities.com/Resource/Borough/Ma...   \n",
       "73            1  Manhattan  http://nyc.pediacities.com/Resource/Borough/Ma...   \n",
       "\n",
       "                                             geometry          area  \n",
       "72  POLYGON ((-8229449.824 4994307.583, -8229437.5...  9.588180e+07  \n",
       "71  POLYGON ((-8228885.652 4983011.624, -8228771.7...  3.809060e+06  \n",
       "51  POLYGON ((-8239506.649 4967214.563, -8239357.0...  1.242664e+06  \n",
       "69  POLYGON ((-8231163.561 4978335.590, -8231280.9...  1.019522e+06  \n",
       "73  POLYGON ((-8227250.755 4994032.424, -8227372.2...  5.352348e+05  "
      ]
     },
     "execution_count": 37,
     "metadata": {},
     "output_type": "execute_result"
    }
   ],
   "source": [
    "gdf.head(5)"
   ]
  },
  {
   "cell_type": "code",
   "execution_count": 51,
   "id": "1febd4dc-3038-4ac6-9f6d-6a61728ce5a4",
   "metadata": {},
   "outputs": [],
   "source": [
    "b_gdf = spark.sparkContext.broadcast(gdf)"
   ]
  },
  {
   "cell_type": "code",
   "execution_count": 52,
   "id": "cfcf8588-cde3-4e73-ace2-6bffe9c197e1",
   "metadata": {},
   "outputs": [],
   "source": [
    "def find_borough(latitude,longitude):\n",
    "    mgdf = b_gdf.value.apply(lambda x: x['borough'] if \\\n",
    "                              x['geometry'].\\\n",
    "                              intersects(gdp.\\\n",
    "                                        points_from_xy(\n",
    "                                            [longitude], \\\n",
    "                                            [latitude])[0]) \\\n",
    "                              else None, axis=1)\n",
    "    idx = mgdf.first_valid_index()\n",
    "    return mgdf.loc[idx] if idx is not None else None"
   ]
  },
  {
   "cell_type": "code",
   "execution_count": 53,
   "id": "5e1e81c8-be79-4b0f-bc22-995b1b08eb4b",
   "metadata": {},
   "outputs": [],
   "source": [
    "from pyspark.sql.types import StringType\n",
    "\n",
    "find_borough_udf = fun.udf(find_borough, StringType())"
   ]
  },
  {
   "cell_type": "code",
   "execution_count": 54,
   "id": "2726f554-add2-4094-aee9-cf418b660cb5",
   "metadata": {},
   "outputs": [],
   "source": [
    "df_with_boroughs = taxi_raw.\\\n",
    "                    withColumn(\"dropoff_borough\", \\\n",
    "                              find_borough_udf(\n",
    "                                fun.col(\"dropoff_latitude\"),\\\n",
    "                                fun.col('dropoff_longitude')))"
   ]
  },
  {
   "cell_type": "code",
   "execution_count": null,
   "id": "a40ca569-241b-4f66-bc81-18bfef8c7ed7",
   "metadata": {},
   "outputs": [
    {
     "name": "stderr",
     "output_type": "stream",
     "text": [
      "[Stage 11:>                                                        (0 + 8) / 26]\r"
     ]
    }
   ],
   "source": [
    "df_with_boroughs.groupBy(fun.col(\"dropoff_borough\")).count().show()"
   ]
  },
  {
   "cell_type": "code",
   "execution_count": null,
   "id": "1e547d51-c87b-4970-9001-f7069c22512c",
   "metadata": {},
   "outputs": [],
   "source": [
    "from pyspark.sql import Window\n",
    "\n",
    "window_spec = Window.partitionBy(\"hack_license\").orderBy(fun.col(\"hack_license\"), fun.col(\"pickup_datetime\"))"
   ]
  },
  {
   "cell_type": "code",
   "execution_count": null,
   "id": "f91fe418-a305-4a08-b9d3-d0db7c599048",
   "metadata": {},
   "outputs": [],
   "source": [
    "df_with_borough_durations = df_with_boroughs.withColumn(\"trip_time_difference\", fun.col(\"pickup_datetime\")-fun.lag(fun.col(\"pickup_datetime\"), 1).over(window_spec)).show(50, vertical=True)"
   ]
  },
  {
   "cell_type": "code",
   "execution_count": null,
   "id": "293e32a8-a8b0-40a3-8e5c-2480215dd1c2",
   "metadata": {},
   "outputs": [],
   "source": [
    "df_with_borough_durations.selectExpr(\"floor(seconds / 3600) as hours\").groupBy(\"hours\").count().sort(\"hours\").show()"
   ]
  },
  {
   "cell_type": "code",
   "execution_count": null,
   "id": "5cd15f0d-a0fa-43c8-b9de-3570a52992e2",
   "metadata": {},
   "outputs": [],
   "source": [
    "df_with_borough_durations.where(\"seconds > 0 AND seconds < 60*60*4\").groupBy(\"borough\").agg(avg(\"seconds\"), stddev(\"seconds\")).show()"
   ]
  },
  {
   "cell_type": "code",
   "execution_count": null,
   "id": "2de8408c-6760-44d5-8898-4a917b3f47a5",
   "metadata": {},
   "outputs": [],
   "source": []
  }
 ],
 "metadata": {
  "kernelspec": {
   "display_name": "Python 3 (ipykernel)",
   "language": "python",
   "name": "python3"
  },
  "language_info": {
   "codemirror_mode": {
    "name": "ipython",
    "version": 3
   },
   "file_extension": ".py",
   "mimetype": "text/x-python",
   "name": "python",
   "nbconvert_exporter": "python",
   "pygments_lexer": "ipython3",
   "version": "3.8.18"
  }
 },
 "nbformat": 4,
 "nbformat_minor": 5
}
